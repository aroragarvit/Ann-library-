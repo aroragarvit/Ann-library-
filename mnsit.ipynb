{
 "cells": [
  {
   "cell_type": "code",
   "execution_count": 1,
   "metadata": {},
   "outputs": [],
   "source": [
    "import numpy as np\n",
    "import pandas as pd\n",
    "np.set_printoptions(suppress=True)\n",
    "np.set_printoptions(threshold=np.inf)\n",
    "from tensorflow.keras.utils import to_categorical\n",
    "from sklearn.preprocessing import StandardScaler\n",
    "from matplotlib import pyplot as plt\n",
    "\n",
    "dataset=pd.read_csv(\"mnsit_train.csv\")\n",
    "\n",
    "x = dataset.iloc[:, 1:785].values\n",
    "y = dataset.iloc[:, 0].values\n",
    "\n",
    "y_train=np.transpose(to_categorical(y))\n",
    "\n",
    "y=y[np.newaxis,:]\n",
    "\n",
    "x_train=x\n",
    "sc = StandardScaler()  # scaling the data \n",
    "x_train = sc.fit_transform(x_train)\n",
    "x_train=np.transpose(x_train)\n",
    "\n",
    "\n",
    "\n",
    "test_dataset=pd.read_csv(\"mnist_test.csv\")\n",
    "\n",
    "a=test_dataset.iloc[:,1:785].values\n",
    "b=test_dataset.iloc[:,0].values\n",
    "\n",
    "test_y=np.transpose(to_categorical(b))\n",
    "\n",
    "test_x=np.transpose(a)\n",
    "\n",
    "test_labels=b[np.newaxis,:]\n",
    "\n"
   ]
  },
  {
   "cell_type": "code",
   "execution_count": 2,
   "metadata": {},
   "outputs": [
    {
     "name": "stdout",
     "output_type": "stream",
     "text": [
      "Accuracy in epoch 0 is 13.485714285714288 percentage\n",
      "Accuracy in epoch 1 is 15.878571428571428 percentage\n",
      "Accuracy in epoch 2 is 17.216666666666665 percentage\n",
      "Accuracy in epoch 3 is 17.97380952380952 percentage\n",
      "Accuracy in epoch 4 is 18.50952380952381 percentage\n",
      "Accuracy in epoch 5 is 18.988095238095237 percentage\n",
      "Accuracy in epoch 6 is 19.407142857142855 percentage\n",
      "Accuracy in epoch 7 is 19.823809523809523 percentage\n",
      "Accuracy in epoch 8 is 20.245238095238093 percentage\n",
      "Accuracy in epoch 9 is 20.65714285714286 percentage\n",
      "Accuracy in epoch 10 is 21.076190476190476 percentage\n",
      "Accuracy in epoch 11 is 21.45952380952381 percentage\n",
      "Accuracy in epoch 12 is 21.916666666666668 percentage\n",
      "Accuracy in epoch 13 is 22.380952380952383 percentage\n",
      "Accuracy in epoch 14 is 22.87142857142857 percentage\n",
      "Accuracy in epoch 15 is 23.314285714285717 percentage\n",
      "Accuracy in epoch 16 is 23.788095238095238 percentage\n",
      "Accuracy in epoch 17 is 24.345238095238095 percentage\n",
      "Accuracy in epoch 18 is 24.89761904761905 percentage\n",
      "Accuracy in epoch 19 is 25.476190476190474 percentage\n",
      "Accuracy in epoch 20 is 26.111904761904764 percentage\n",
      "Accuracy in epoch 21 is 26.795238095238094 percentage\n",
      "Accuracy in epoch 22 is 27.421428571428567 percentage\n",
      "Accuracy in epoch 23 is 28.152380952380952 percentage\n",
      "Accuracy in epoch 24 is 28.79285714285714 percentage\n",
      "Accuracy in epoch 25 is 29.488095238095234 percentage\n",
      "Accuracy in epoch 26 is 30.138095238095236 percentage\n",
      "Accuracy in epoch 27 is 30.788095238095238 percentage\n",
      "Accuracy in epoch 28 is 31.376190476190473 percentage\n",
      "Accuracy in epoch 29 is 32.04523809523809 percentage\n",
      "Accuracy in epoch 30 is 32.628571428571426 percentage\n",
      "Accuracy in epoch 31 is 33.25714285714286 percentage\n",
      "Accuracy in epoch 32 is 33.72857142857143 percentage\n",
      "Accuracy in epoch 33 is 34.359523809523814 percentage\n",
      "Accuracy in epoch 34 is 34.91666666666667 percentage\n",
      "Accuracy in epoch 35 is 35.390476190476186 percentage\n",
      "Accuracy in epoch 36 is 35.909523809523805 percentage\n",
      "Accuracy in epoch 37 is 36.46666666666666 percentage\n",
      "Accuracy in epoch 38 is 36.957142857142856 percentage\n",
      "Accuracy in epoch 39 is 37.46666666666666 percentage\n",
      "Accuracy in epoch 40 is 38.02619047619047 percentage\n",
      "Accuracy in epoch 41 is 38.464285714285715 percentage\n",
      "Accuracy in epoch 42 is 39.00238095238095 percentage\n",
      "Accuracy in epoch 43 is 39.59285714285714 percentage\n",
      "Accuracy in epoch 44 is 40.18571428571428 percentage\n",
      "Accuracy in epoch 45 is 40.75 percentage\n",
      "Accuracy in epoch 46 is 41.28809523809524 percentage\n",
      "Accuracy in epoch 47 is 41.84047619047619 percentage\n",
      "Accuracy in epoch 48 is 42.44047619047619 percentage\n",
      "Accuracy in epoch 49 is 43.06190476190476 percentage\n",
      "Accuracy in epoch 50 is 43.642857142857146 percentage\n",
      "Accuracy in epoch 51 is 44.180952380952384 percentage\n",
      "Accuracy in epoch 52 is 44.673809523809524 percentage\n",
      "Accuracy in epoch 53 is 45.195238095238096 percentage\n",
      "Accuracy in epoch 54 is 45.81904761904762 percentage\n",
      "Accuracy in epoch 55 is 46.345238095238095 percentage\n",
      "Accuracy in epoch 56 is 46.84761904761905 percentage\n",
      "Accuracy in epoch 57 is 47.34047619047619 percentage\n",
      "Accuracy in epoch 58 is 47.852380952380955 percentage\n",
      "Accuracy in epoch 59 is 48.43095238095238 percentage\n",
      "Accuracy in epoch 60 is 48.95476190476191 percentage\n",
      "Accuracy in epoch 61 is 49.42142857142857 percentage\n",
      "Accuracy in epoch 62 is 50.02142857142857 percentage\n",
      "Accuracy in epoch 63 is 50.47380952380952 percentage\n",
      "Accuracy in epoch 64 is 50.983333333333334 percentage\n",
      "Accuracy in epoch 65 is 51.449999999999996 percentage\n",
      "Accuracy in epoch 66 is 51.94761904761904 percentage\n",
      "Accuracy in epoch 67 is 52.400000000000006 percentage\n",
      "Accuracy in epoch 68 is 52.81904761904762 percentage\n",
      "Accuracy in epoch 69 is 53.25238095238095 percentage\n",
      "Accuracy in epoch 70 is 53.780952380952385 percentage\n",
      "Accuracy in epoch 71 is 54.266666666666666 percentage\n",
      "Accuracy in epoch 72 is 54.726190476190474 percentage\n",
      "Accuracy in epoch 73 is 55.166666666666664 percentage\n",
      "Accuracy in epoch 74 is 55.67142857142857 percentage\n",
      "Accuracy in epoch 75 is 56.1047619047619 percentage\n",
      "Accuracy in epoch 76 is 56.57380952380953 percentage\n",
      "Accuracy in epoch 77 is 56.98809523809524 percentage\n",
      "Accuracy in epoch 78 is 57.39761904761905 percentage\n",
      "Accuracy in epoch 79 is 57.85952380952381 percentage\n",
      "Accuracy in epoch 80 is 58.24523809523809 percentage\n",
      "Accuracy in epoch 81 is 58.66428571428571 percentage\n",
      "Accuracy in epoch 82 is 59.02619047619048 percentage\n",
      "Accuracy in epoch 83 is 59.40714285714286 percentage\n",
      "Accuracy in epoch 84 is 59.80952380952381 percentage\n",
      "Accuracy in epoch 85 is 60.16666666666667 percentage\n",
      "Accuracy in epoch 86 is 60.550000000000004 percentage\n",
      "Accuracy in epoch 87 is 60.945238095238096 percentage\n",
      "Accuracy in epoch 88 is 61.304761904761904 percentage\n",
      "Accuracy in epoch 89 is 61.64047619047619 percentage\n",
      "Accuracy in epoch 90 is 61.99523809523809 percentage\n",
      "Accuracy in epoch 91 is 62.34047619047619 percentage\n",
      "Accuracy in epoch 92 is 62.688095238095244 percentage\n",
      "Accuracy in epoch 93 is 63.03095238095238 percentage\n",
      "Accuracy in epoch 94 is 63.40238095238095 percentage\n",
      "Accuracy in epoch 95 is 63.721428571428575 percentage\n",
      "Accuracy in epoch 96 is 64.03809523809524 percentage\n",
      "Accuracy in epoch 97 is 64.28809523809524 percentage\n",
      "Accuracy in epoch 98 is 64.57857142857144 percentage\n",
      "Accuracy in epoch 99 is 64.91904761904762 percentage\n",
      "Accuracy in epoch 100 is 65.21428571428571 percentage\n",
      "Accuracy in epoch 101 is 65.47857142857143 percentage\n",
      "Accuracy in epoch 102 is 65.76428571428572 percentage\n",
      "Accuracy in epoch 103 is 66.04761904761904 percentage\n",
      "Accuracy in epoch 104 is 66.34523809523809 percentage\n",
      "Accuracy in epoch 105 is 66.60952380952381 percentage\n",
      "Accuracy in epoch 106 is 66.9047619047619 percentage\n",
      "Accuracy in epoch 107 is 67.19285714285715 percentage\n",
      "Accuracy in epoch 108 is 67.42857142857143 percentage\n",
      "Accuracy in epoch 109 is 67.70238095238095 percentage\n",
      "Accuracy in epoch 110 is 67.97619047619048 percentage\n",
      "Accuracy in epoch 111 is 68.21428571428572 percentage\n",
      "Accuracy in epoch 112 is 68.44761904761904 percentage\n",
      "Accuracy in epoch 113 is 68.67380952380952 percentage\n",
      "Accuracy in epoch 114 is 68.89047619047619 percentage\n",
      "Accuracy in epoch 115 is 69.17380952380952 percentage\n",
      "Accuracy in epoch 116 is 69.36666666666666 percentage\n",
      "Accuracy in epoch 117 is 69.5904761904762 percentage\n",
      "Accuracy in epoch 118 is 69.81190476190477 percentage\n",
      "Accuracy in epoch 119 is 70.0547619047619 percentage\n",
      "Accuracy in epoch 120 is 70.21904761904761 percentage\n",
      "Accuracy in epoch 121 is 70.46428571428571 percentage\n",
      "Accuracy in epoch 122 is 70.67857142857143 percentage\n",
      "Accuracy in epoch 123 is 70.95714285714286 percentage\n",
      "Accuracy in epoch 124 is 71.1595238095238 percentage\n",
      "Accuracy in epoch 125 is 71.36190476190475 percentage\n",
      "Accuracy in epoch 126 is 71.59761904761905 percentage\n",
      "Accuracy in epoch 127 is 71.8 percentage\n",
      "Accuracy in epoch 128 is 71.98333333333333 percentage\n",
      "Accuracy in epoch 129 is 72.17380952380952 percentage\n",
      "Accuracy in epoch 130 is 72.40238095238095 percentage\n",
      "Accuracy in epoch 131 is 72.59761904761905 percentage\n",
      "Accuracy in epoch 132 is 72.76190476190476 percentage\n",
      "Accuracy in epoch 133 is 72.91666666666666 percentage\n",
      "Accuracy in epoch 134 is 73.08809523809524 percentage\n",
      "Accuracy in epoch 135 is 73.26190476190476 percentage\n",
      "Accuracy in epoch 136 is 73.39285714285714 percentage\n",
      "Accuracy in epoch 137 is 73.56428571428572 percentage\n",
      "Accuracy in epoch 138 is 73.73333333333333 percentage\n",
      "Accuracy in epoch 139 is 73.90238095238095 percentage\n",
      "Accuracy in epoch 140 is 74.08571428571429 percentage\n",
      "Accuracy in epoch 141 is 74.25714285714285 percentage\n",
      "Accuracy in epoch 142 is 74.39047619047619 percentage\n",
      "Accuracy in epoch 143 is 74.56666666666666 percentage\n",
      "Accuracy in epoch 144 is 74.79285714285714 percentage\n",
      "Accuracy in epoch 145 is 74.97142857142856 percentage\n",
      "Accuracy in epoch 146 is 75.06904761904762 percentage\n",
      "Accuracy in epoch 147 is 75.22619047619048 percentage\n",
      "Accuracy in epoch 148 is 75.35238095238095 percentage\n",
      "Accuracy in epoch 149 is 75.51904761904763 percentage\n",
      "Accuracy in epoch 150 is 75.65238095238095 percentage\n",
      "Accuracy in epoch 151 is 75.78333333333333 percentage\n",
      "Accuracy in epoch 152 is 75.90714285714286 percentage\n",
      "Accuracy in epoch 153 is 76.03333333333333 percentage\n",
      "Accuracy in epoch 154 is 76.1595238095238 percentage\n",
      "Accuracy in epoch 155 is 76.29285714285714 percentage\n",
      "Accuracy in epoch 156 is 76.42619047619048 percentage\n",
      "Accuracy in epoch 157 is 76.5547619047619 percentage\n",
      "Accuracy in epoch 158 is 76.66428571428571 percentage\n",
      "Accuracy in epoch 159 is 76.79761904761905 percentage\n",
      "Accuracy in epoch 160 is 76.9095238095238 percentage\n",
      "Accuracy in epoch 161 is 76.98809523809523 percentage\n",
      "Accuracy in epoch 162 is 77.10714285714285 percentage\n",
      "Accuracy in epoch 163 is 77.22142857142858 percentage\n",
      "Accuracy in epoch 164 is 77.33095238095238 percentage\n",
      "Accuracy in epoch 165 is 77.42142857142858 percentage\n",
      "Accuracy in epoch 166 is 77.52619047619046 percentage\n",
      "Accuracy in epoch 167 is 77.6452380952381 percentage\n",
      "Accuracy in epoch 168 is 77.76428571428572 percentage\n",
      "Accuracy in epoch 169 is 77.90238095238095 percentage\n",
      "Accuracy in epoch 170 is 77.97619047619048 percentage\n",
      "Accuracy in epoch 171 is 78.11904761904762 percentage\n",
      "Accuracy in epoch 172 is 78.22619047619047 percentage\n",
      "Accuracy in epoch 173 is 78.32380952380953 percentage\n",
      "Accuracy in epoch 174 is 78.40714285714286 percentage\n",
      "Accuracy in epoch 175 is 78.49047619047619 percentage\n",
      "Accuracy in epoch 176 is 78.60238095238095 percentage\n",
      "Accuracy in epoch 177 is 78.7 percentage\n",
      "Accuracy in epoch 178 is 78.76904761904761 percentage\n",
      "Accuracy in epoch 179 is 78.87857142857143 percentage\n",
      "Accuracy in epoch 180 is 78.95952380952382 percentage\n",
      "Accuracy in epoch 181 is 79.0404761904762 percentage\n",
      "Accuracy in epoch 182 is 79.15952380952382 percentage\n",
      "Accuracy in epoch 183 is 79.22380952380952 percentage\n",
      "Accuracy in epoch 184 is 79.33095238095238 percentage\n",
      "Accuracy in epoch 185 is 79.45238095238095 percentage\n",
      "Accuracy in epoch 186 is 79.59285714285714 percentage\n",
      "Accuracy in epoch 187 is 79.67857142857143 percentage\n",
      "Accuracy in epoch 188 is 79.76666666666667 percentage\n",
      "Accuracy in epoch 189 is 79.86190476190477 percentage\n",
      "Accuracy in epoch 190 is 79.92619047619047 percentage\n",
      "Accuracy in epoch 191 is 79.99047619047619 percentage\n",
      "Accuracy in epoch 192 is 80.08571428571429 percentage\n",
      "Accuracy in epoch 193 is 80.15238095238095 percentage\n",
      "Accuracy in epoch 194 is 80.23809523809524 percentage\n",
      "Accuracy in epoch 195 is 80.29047619047618 percentage\n",
      "Accuracy in epoch 196 is 80.35 percentage\n",
      "Accuracy in epoch 197 is 80.4047619047619 percentage\n",
      "Accuracy in epoch 198 is 80.47857142857143 percentage\n",
      "Accuracy in epoch 199 is 80.54761904761905 percentage\n",
      "Accuracy in epoch 200 is 80.5904761904762 percentage\n",
      "Accuracy in epoch 201 is 80.66666666666666 percentage\n",
      "Accuracy in epoch 202 is 80.72142857142856 percentage\n",
      "Accuracy in epoch 203 is 80.7547619047619 percentage\n",
      "Accuracy in epoch 204 is 80.79285714285714 percentage\n",
      "Accuracy in epoch 205 is 80.85 percentage\n",
      "Accuracy in epoch 206 is 80.9095238095238 percentage\n",
      "Accuracy in epoch 207 is 80.96904761904761 percentage\n",
      "Accuracy in epoch 208 is 81.04523809523809 percentage\n",
      "Accuracy in epoch 209 is 81.11190476190477 percentage\n",
      "Accuracy in epoch 210 is 81.16666666666667 percentage\n",
      "Accuracy in epoch 211 is 81.22142857142856 percentage\n",
      "Accuracy in epoch 212 is 81.26904761904761 percentage\n",
      "Accuracy in epoch 213 is 81.35238095238095 percentage\n",
      "Accuracy in epoch 214 is 81.42142857142856 percentage\n",
      "Accuracy in epoch 215 is 81.47380952380952 percentage\n",
      "Accuracy in epoch 216 is 81.53333333333333 percentage\n",
      "Accuracy in epoch 217 is 81.59761904761905 percentage\n",
      "Accuracy in epoch 218 is 81.66666666666667 percentage\n",
      "Accuracy in epoch 219 is 81.72857142857143 percentage\n",
      "Accuracy in epoch 220 is 81.78571428571428 percentage\n",
      "Accuracy in epoch 221 is 81.85238095238095 percentage\n",
      "Accuracy in epoch 222 is 81.88809523809523 percentage\n",
      "Accuracy in epoch 223 is 81.95714285714286 percentage\n",
      "Accuracy in epoch 224 is 82.02857142857142 percentage\n",
      "Accuracy in epoch 225 is 82.1 percentage\n",
      "Accuracy in epoch 226 is 82.17619047619048 percentage\n",
      "Accuracy in epoch 227 is 82.23809523809524 percentage\n",
      "Accuracy in epoch 228 is 82.28809523809524 percentage\n",
      "Accuracy in epoch 229 is 82.35238095238095 percentage\n",
      "Accuracy in epoch 230 is 82.42619047619047 percentage\n",
      "Accuracy in epoch 231 is 82.4952380952381 percentage\n",
      "Accuracy in epoch 232 is 82.53809523809524 percentage\n",
      "Accuracy in epoch 233 is 82.5904761904762 percentage\n",
      "Accuracy in epoch 234 is 82.63333333333334 percentage\n",
      "Accuracy in epoch 235 is 82.67857142857142 percentage\n",
      "Accuracy in epoch 236 is 82.7357142857143 percentage\n",
      "Accuracy in epoch 237 is 82.77857142857142 percentage\n",
      "Accuracy in epoch 238 is 82.83571428571429 percentage\n",
      "Accuracy in epoch 239 is 82.88333333333333 percentage\n",
      "Accuracy in epoch 240 is 82.91666666666667 percentage\n",
      "Accuracy in epoch 241 is 82.96904761904761 percentage\n",
      "Accuracy in epoch 242 is 83.02142857142857 percentage\n",
      "Accuracy in epoch 243 is 83.08809523809524 percentage\n",
      "Accuracy in epoch 244 is 83.14761904761905 percentage\n",
      "Accuracy in epoch 245 is 83.19285714285715 percentage\n",
      "Accuracy in epoch 246 is 83.26190476190476 percentage\n",
      "Accuracy in epoch 247 is 83.2904761904762 percentage\n",
      "Accuracy in epoch 248 is 83.35714285714285 percentage\n",
      "Accuracy in epoch 249 is 83.3952380952381 percentage\n",
      "Accuracy in epoch 250 is 83.44761904761904 percentage\n",
      "Accuracy in epoch 251 is 83.48333333333333 percentage\n",
      "Accuracy in epoch 252 is 83.52142857142857 percentage\n",
      "Accuracy in epoch 253 is 83.56428571428572 percentage\n",
      "Accuracy in epoch 254 is 83.60238095238095 percentage\n",
      "Accuracy in epoch 255 is 83.66904761904762 percentage\n",
      "Accuracy in epoch 256 is 83.72619047619048 percentage\n",
      "Accuracy in epoch 257 is 83.78571428571429 percentage\n",
      "Accuracy in epoch 258 is 83.82619047619048 percentage\n",
      "Accuracy in epoch 259 is 83.87619047619047 percentage\n",
      "Accuracy in epoch 260 is 83.90714285714286 percentage\n",
      "Accuracy in epoch 261 is 83.95238095238096 percentage\n",
      "Accuracy in epoch 262 is 83.99285714285715 percentage\n",
      "Accuracy in epoch 263 is 84.04523809523809 percentage\n",
      "Accuracy in epoch 264 is 84.11428571428571 percentage\n",
      "Accuracy in epoch 265 is 84.15 percentage\n",
      "Accuracy in epoch 266 is 84.17857142857143 percentage\n",
      "Accuracy in epoch 267 is 84.21428571428572 percentage\n",
      "Accuracy in epoch 268 is 84.23809523809524 percentage\n",
      "Accuracy in epoch 269 is 84.28333333333333 percentage\n",
      "Accuracy in epoch 270 is 84.33809523809524 percentage\n",
      "Accuracy in epoch 271 is 84.38095238095238 percentage\n",
      "Accuracy in epoch 272 is 84.41666666666666 percentage\n",
      "Accuracy in epoch 273 is 84.47142857142858 percentage\n",
      "Accuracy in epoch 274 is 84.52142857142857 percentage\n",
      "Accuracy in epoch 275 is 84.55714285714285 percentage\n",
      "Accuracy in epoch 276 is 84.57380952380953 percentage\n",
      "Accuracy in epoch 277 is 84.59523809523809 percentage\n",
      "Accuracy in epoch 278 is 84.62619047619047 percentage\n",
      "Accuracy in epoch 279 is 84.62857142857143 percentage\n",
      "Accuracy in epoch 280 is 84.66428571428571 percentage\n",
      "Accuracy in epoch 281 is 84.69047619047619 percentage\n",
      "Accuracy in epoch 282 is 84.71428571428572 percentage\n",
      "Accuracy in epoch 283 is 84.73571428571428 percentage\n",
      "Accuracy in epoch 284 is 84.74761904761905 percentage\n",
      "Accuracy in epoch 285 is 84.78333333333333 percentage\n",
      "Accuracy in epoch 286 is 84.80952380952381 percentage\n",
      "Accuracy in epoch 287 is 84.82619047619048 percentage\n",
      "Accuracy in epoch 288 is 84.84285714285714 percentage\n",
      "Accuracy in epoch 289 is 84.8547619047619 percentage\n",
      "Accuracy in epoch 290 is 84.88809523809525 percentage\n",
      "Accuracy in epoch 291 is 84.92619047619047 percentage\n",
      "Accuracy in epoch 292 is 84.9547619047619 percentage\n",
      "Accuracy in epoch 293 is 85.0047619047619 percentage\n",
      "Accuracy in epoch 294 is 85.06428571428572 percentage\n",
      "Accuracy in epoch 295 is 85.07857142857142 percentage\n",
      "Accuracy in epoch 296 is 85.09523809523809 percentage\n",
      "Accuracy in epoch 297 is 85.14285714285714 percentage\n",
      "Accuracy in epoch 298 is 85.16428571428571 percentage\n",
      "Accuracy in epoch 299 is 85.19285714285715 percentage\n",
      "Accuracy in epoch 300 is 85.22142857142858 percentage\n",
      "Accuracy in epoch 301 is 85.26428571428572 percentage\n",
      "Accuracy in epoch 302 is 85.2904761904762 percentage\n",
      "Accuracy in epoch 303 is 85.31666666666666 percentage\n",
      "Accuracy in epoch 304 is 85.33333333333334 percentage\n",
      "Accuracy in epoch 305 is 85.35238095238095 percentage\n",
      "Accuracy in epoch 306 is 85.39047619047619 percentage\n",
      "Accuracy in epoch 307 is 85.41666666666666 percentage\n",
      "Accuracy in epoch 308 is 85.45238095238096 percentage\n",
      "Accuracy in epoch 309 is 85.48095238095237 percentage\n",
      "Accuracy in epoch 310 is 85.5047619047619 percentage\n",
      "Accuracy in epoch 311 is 85.52142857142857 percentage\n",
      "Accuracy in epoch 312 is 85.55952380952381 percentage\n",
      "Accuracy in epoch 313 is 85.5904761904762 percentage\n",
      "Accuracy in epoch 314 is 85.62619047619047 percentage\n",
      "Accuracy in epoch 315 is 85.65714285714286 percentage\n",
      "Accuracy in epoch 316 is 85.69761904761904 percentage\n",
      "Accuracy in epoch 317 is 85.71428571428571 percentage\n",
      "Accuracy in epoch 318 is 85.76190476190476 percentage\n",
      "Accuracy in epoch 319 is 85.78809523809524 percentage\n",
      "Accuracy in epoch 320 is 85.81428571428572 percentage\n",
      "Accuracy in epoch 321 is 85.83095238095238 percentage\n",
      "Accuracy in epoch 322 is 85.86190476190477 percentage\n",
      "Accuracy in epoch 323 is 85.89285714285714 percentage\n",
      "Accuracy in epoch 324 is 85.92142857142858 percentage\n",
      "Accuracy in epoch 325 is 85.94761904761906 percentage\n",
      "Accuracy in epoch 326 is 85.97619047619047 percentage\n",
      "Accuracy in epoch 327 is 85.9857142857143 percentage\n",
      "Accuracy in epoch 328 is 86.02380952380952 percentage\n",
      "Accuracy in epoch 329 is 86.03571428571428 percentage\n",
      "Accuracy in epoch 330 is 86.05714285714285 percentage\n",
      "Accuracy in epoch 331 is 86.08571428571429 percentage\n",
      "Accuracy in epoch 332 is 86.1 percentage\n",
      "Accuracy in epoch 333 is 86.11904761904762 percentage\n",
      "Accuracy in epoch 334 is 86.1547619047619 percentage\n",
      "Accuracy in epoch 335 is 86.20714285714286 percentage\n",
      "Accuracy in epoch 336 is 86.22619047619048 percentage\n",
      "Accuracy in epoch 337 is 86.25952380952381 percentage\n",
      "Accuracy in epoch 338 is 86.27619047619048 percentage\n",
      "Accuracy in epoch 339 is 86.29285714285714 percentage\n",
      "Accuracy in epoch 340 is 86.30714285714286 percentage\n",
      "Accuracy in epoch 341 is 86.34285714285714 percentage\n",
      "Accuracy in epoch 342 is 86.36904761904762 percentage\n",
      "Accuracy in epoch 343 is 86.39523809523808 percentage\n",
      "Accuracy in epoch 344 is 86.41904761904762 percentage\n",
      "Accuracy in epoch 345 is 86.44285714285715 percentage\n",
      "Accuracy in epoch 346 is 86.45 percentage\n",
      "Accuracy in epoch 347 is 86.4595238095238 percentage\n",
      "Accuracy in epoch 348 is 86.48809523809524 percentage\n",
      "Accuracy in epoch 349 is 86.50238095238095 percentage\n",
      "Accuracy in epoch 350 is 86.51904761904761 percentage\n",
      "Accuracy in epoch 351 is 86.54047619047618 percentage\n",
      "Accuracy in epoch 352 is 86.55952380952381 percentage\n",
      "Accuracy in epoch 353 is 86.59285714285714 percentage\n",
      "Accuracy in epoch 354 is 86.61428571428571 percentage\n",
      "Accuracy in epoch 355 is 86.63809523809523 percentage\n",
      "Accuracy in epoch 356 is 86.65238095238095 percentage\n",
      "Accuracy in epoch 357 is 86.66904761904762 percentage\n",
      "Accuracy in epoch 358 is 86.69047619047619 percentage\n",
      "Accuracy in epoch 359 is 86.70714285714286 percentage\n",
      "Accuracy in epoch 360 is 86.73571428571428 percentage\n",
      "Accuracy in epoch 361 is 86.77380952380952 percentage\n",
      "Accuracy in epoch 362 is 86.79523809523809 percentage\n",
      "Accuracy in epoch 363 is 86.81428571428572 percentage\n",
      "Accuracy in epoch 364 is 86.83095238095238 percentage\n",
      "Accuracy in epoch 365 is 86.84761904761905 percentage\n",
      "Accuracy in epoch 366 is 86.87142857142857 percentage\n",
      "Accuracy in epoch 367 is 86.88571428571429 percentage\n",
      "Accuracy in epoch 368 is 86.90714285714286 percentage\n",
      "Accuracy in epoch 369 is 86.93333333333332 percentage\n",
      "Accuracy in epoch 370 is 86.9547619047619 percentage\n",
      "Accuracy in epoch 371 is 86.97142857142856 percentage\n",
      "Accuracy in epoch 372 is 87.0 percentage\n",
      "Accuracy in epoch 373 is 87.02619047619048 percentage\n",
      "Accuracy in epoch 374 is 87.06904761904762 percentage\n",
      "Accuracy in epoch 375 is 87.08095238095238 percentage\n",
      "Accuracy in epoch 376 is 87.11666666666666 percentage\n",
      "Accuracy in epoch 377 is 87.13095238095238 percentage\n",
      "Accuracy in epoch 378 is 87.15 percentage\n",
      "Accuracy in epoch 379 is 87.17380952380952 percentage\n",
      "Accuracy in epoch 380 is 87.18333333333334 percentage\n",
      "Accuracy in epoch 381 is 87.1952380952381 percentage\n",
      "Accuracy in epoch 382 is 87.20952380952382 percentage\n",
      "Accuracy in epoch 383 is 87.23333333333333 percentage\n",
      "Accuracy in epoch 384 is 87.25 percentage\n",
      "Accuracy in epoch 385 is 87.27380952380952 percentage\n",
      "Accuracy in epoch 386 is 87.29047619047618 percentage\n",
      "Accuracy in epoch 387 is 87.31428571428572 percentage\n",
      "Accuracy in epoch 388 is 87.33809523809524 percentage\n",
      "Accuracy in epoch 389 is 87.37380952380953 percentage\n",
      "Accuracy in epoch 390 is 87.40476190476191 percentage\n",
      "Accuracy in epoch 391 is 87.41904761904762 percentage\n",
      "Accuracy in epoch 392 is 87.43809523809524 percentage\n",
      "Accuracy in epoch 393 is 87.4547619047619 percentage\n",
      "Accuracy in epoch 394 is 87.47380952380952 percentage\n",
      "Accuracy in epoch 395 is 87.50952380952381 percentage\n",
      "Accuracy in epoch 396 is 87.53333333333333 percentage\n",
      "Accuracy in epoch 397 is 87.53809523809524 percentage\n",
      "Accuracy in epoch 398 is 87.56428571428572 percentage\n",
      "Accuracy in epoch 399 is 87.58095238095238 percentage\n",
      "Accuracy in epoch 400 is 87.61904761904762 percentage\n",
      "Accuracy in epoch 401 is 87.63333333333333 percentage\n",
      "Accuracy in epoch 402 is 87.65238095238095 percentage\n",
      "Accuracy in epoch 403 is 87.66428571428571 percentage\n",
      "Accuracy in epoch 404 is 87.68095238095238 percentage\n",
      "Accuracy in epoch 405 is 87.68571428571428 percentage\n",
      "Accuracy in epoch 406 is 87.69285714285714 percentage\n",
      "Accuracy in epoch 407 is 87.70952380952382 percentage\n",
      "Accuracy in epoch 408 is 87.71666666666667 percentage\n",
      "Accuracy in epoch 409 is 87.73095238095237 percentage\n",
      "Accuracy in epoch 410 is 87.74285714285715 percentage\n",
      "Accuracy in epoch 411 is 87.7547619047619 percentage\n",
      "Accuracy in epoch 412 is 87.77380952380952 percentage\n",
      "Accuracy in epoch 413 is 87.78095238095239 percentage\n",
      "Accuracy in epoch 414 is 87.79285714285714 percentage\n",
      "Accuracy in epoch 415 is 87.80952380952381 percentage\n",
      "Accuracy in epoch 416 is 87.81666666666666 percentage\n",
      "Accuracy in epoch 417 is 87.83095238095238 percentage\n",
      "Accuracy in epoch 418 is 87.85238095238095 percentage\n",
      "Accuracy in epoch 419 is 87.89285714285714 percentage\n",
      "Accuracy in epoch 420 is 87.91190476190476 percentage\n",
      "Accuracy in epoch 421 is 87.94285714285715 percentage\n",
      "Accuracy in epoch 422 is 87.96428571428572 percentage\n",
      "Accuracy in epoch 423 is 87.98333333333333 percentage\n",
      "Accuracy in epoch 424 is 88.0047619047619 percentage\n",
      "Accuracy in epoch 425 is 88.0142857142857 percentage\n",
      "Accuracy in epoch 426 is 88.02857142857144 percentage\n",
      "Accuracy in epoch 427 is 88.0404761904762 percentage\n",
      "Accuracy in epoch 428 is 88.06904761904762 percentage\n",
      "Accuracy in epoch 429 is 88.07619047619048 percentage\n",
      "Accuracy in epoch 430 is 88.09523809523809 percentage\n",
      "Accuracy in epoch 431 is 88.10952380952381 percentage\n",
      "Accuracy in epoch 432 is 88.12142857142857 percentage\n",
      "Accuracy in epoch 433 is 88.13809523809523 percentage\n",
      "Accuracy in epoch 434 is 88.15714285714286 percentage\n",
      "Accuracy in epoch 435 is 88.17380952380952 percentage\n",
      "Accuracy in epoch 436 is 88.18333333333334 percentage\n",
      "Accuracy in epoch 437 is 88.20238095238095 percentage\n",
      "Accuracy in epoch 438 is 88.2095238095238 percentage\n",
      "Accuracy in epoch 439 is 88.23333333333333 percentage\n",
      "Accuracy in epoch 440 is 88.25238095238095 percentage\n",
      "Accuracy in epoch 441 is 88.25238095238095 percentage\n",
      "Accuracy in epoch 442 is 88.27619047619048 percentage\n",
      "Accuracy in epoch 443 is 88.28095238095239 percentage\n",
      "Accuracy in epoch 444 is 88.3047619047619 percentage\n",
      "Accuracy in epoch 445 is 88.31904761904762 percentage\n",
      "Accuracy in epoch 446 is 88.32619047619048 percentage\n",
      "Accuracy in epoch 447 is 88.33571428571429 percentage\n",
      "Accuracy in epoch 448 is 88.34285714285714 percentage\n",
      "Accuracy in epoch 449 is 88.35952380952381 percentage\n",
      "Accuracy in epoch 450 is 88.37619047619047 percentage\n",
      "Accuracy in epoch 451 is 88.39047619047619 percentage\n",
      "Accuracy in epoch 452 is 88.4 percentage\n",
      "Accuracy in epoch 453 is 88.42142857142858 percentage\n",
      "Accuracy in epoch 454 is 88.4452380952381 percentage\n",
      "Accuracy in epoch 455 is 88.46666666666667 percentage\n",
      "Accuracy in epoch 456 is 88.47857142857143 percentage\n",
      "Accuracy in epoch 457 is 88.4857142857143 percentage\n",
      "Accuracy in epoch 458 is 88.5047619047619 percentage\n",
      "Accuracy in epoch 459 is 88.51666666666667 percentage\n",
      "Accuracy in epoch 460 is 88.53809523809524 percentage\n",
      "Accuracy in epoch 461 is 88.55238095238094 percentage\n",
      "Accuracy in epoch 462 is 88.55952380952381 percentage\n",
      "Accuracy in epoch 463 is 88.57380952380952 percentage\n",
      "Accuracy in epoch 464 is 88.59523809523809 percentage\n",
      "Accuracy in epoch 465 is 88.60714285714286 percentage\n",
      "Accuracy in epoch 466 is 88.63095238095238 percentage\n",
      "Accuracy in epoch 467 is 88.64047619047619 percentage\n",
      "Accuracy in epoch 468 is 88.64761904761906 percentage\n",
      "Accuracy in epoch 469 is 88.66190476190476 percentage\n",
      "Accuracy in epoch 470 is 88.68571428571428 percentage\n",
      "Accuracy in epoch 471 is 88.69285714285714 percentage\n",
      "Accuracy in epoch 472 is 88.71428571428571 percentage\n",
      "Accuracy in epoch 473 is 88.72619047619048 percentage\n",
      "Accuracy in epoch 474 is 88.73333333333333 percentage\n",
      "Accuracy in epoch 475 is 88.75 percentage\n",
      "Accuracy in epoch 476 is 88.75238095238095 percentage\n",
      "Accuracy in epoch 477 is 88.76666666666667 percentage\n",
      "Accuracy in epoch 478 is 88.77619047619048 percentage\n",
      "Accuracy in epoch 479 is 88.79285714285714 percentage\n",
      "Accuracy in epoch 480 is 88.81190476190476 percentage\n",
      "Accuracy in epoch 481 is 88.82619047619048 percentage\n",
      "Accuracy in epoch 482 is 88.83571428571429 percentage\n",
      "Accuracy in epoch 483 is 88.85238095238095 percentage\n",
      "Accuracy in epoch 484 is 88.86666666666667 percentage\n",
      "Accuracy in epoch 485 is 88.86904761904762 percentage\n",
      "Accuracy in epoch 486 is 88.89047619047619 percentage\n",
      "Accuracy in epoch 487 is 88.9 percentage\n",
      "Accuracy in epoch 488 is 88.92619047619048 percentage\n",
      "Accuracy in epoch 489 is 88.94047619047619 percentage\n",
      "Accuracy in epoch 490 is 88.95714285714286 percentage\n",
      "Accuracy in epoch 491 is 88.95952380952382 percentage\n",
      "Accuracy in epoch 492 is 88.97619047619048 percentage\n",
      "Accuracy in epoch 493 is 88.98809523809523 percentage\n",
      "Accuracy in epoch 494 is 89.00238095238096 percentage\n",
      "Accuracy in epoch 495 is 89.00714285714287 percentage\n",
      "Accuracy in epoch 496 is 89.01904761904763 percentage\n",
      "Accuracy in epoch 497 is 89.04285714285714 percentage\n",
      "Accuracy in epoch 498 is 89.06428571428572 percentage\n",
      "Accuracy in epoch 499 is 89.07619047619048 percentage\n",
      "Accuracy in epoch 500 is 89.09285714285714 percentage\n",
      "Accuracy in epoch 501 is 89.11428571428571 percentage\n",
      "Accuracy in epoch 502 is 89.12857142857142 percentage\n",
      "Accuracy in epoch 503 is 89.13095238095238 percentage\n",
      "Accuracy in epoch 504 is 89.14047619047619 percentage\n",
      "Accuracy in epoch 505 is 89.14047619047619 percentage\n",
      "Accuracy in epoch 506 is 89.16190476190476 percentage\n",
      "Accuracy in epoch 507 is 89.18571428571428 percentage\n",
      "Accuracy in epoch 508 is 89.18571428571428 percentage\n",
      "Accuracy in epoch 509 is 89.2 percentage\n",
      "Accuracy in epoch 510 is 89.21428571428571 percentage\n",
      "Accuracy in epoch 511 is 89.23571428571428 percentage\n",
      "Accuracy in epoch 512 is 89.2452380952381 percentage\n",
      "Accuracy in epoch 513 is 89.26428571428572 percentage\n",
      "Accuracy in epoch 514 is 89.27619047619048 percentage\n",
      "Accuracy in epoch 515 is 89.29047619047618 percentage\n",
      "Accuracy in epoch 516 is 89.30714285714285 percentage\n",
      "Accuracy in epoch 517 is 89.31190476190476 percentage\n",
      "Accuracy in epoch 518 is 89.32380952380953 percentage\n",
      "Accuracy in epoch 519 is 89.35 percentage\n",
      "Accuracy in epoch 520 is 89.36190476190477 percentage\n",
      "Accuracy in epoch 521 is 89.37619047619047 percentage\n",
      "Accuracy in epoch 522 is 89.39047619047619 percentage\n",
      "Accuracy in epoch 523 is 89.40238095238095 percentage\n",
      "Accuracy in epoch 524 is 89.41190476190476 percentage\n",
      "Accuracy in epoch 525 is 89.41428571428571 percentage\n",
      "Accuracy in epoch 526 is 89.41904761904762 percentage\n",
      "Accuracy in epoch 527 is 89.44047619047619 percentage\n",
      "Accuracy in epoch 528 is 89.45 percentage\n",
      "Accuracy in epoch 529 is 89.46904761904761 percentage\n",
      "Accuracy in epoch 530 is 89.47619047619048 percentage\n",
      "Accuracy in epoch 531 is 89.47380952380952 percentage\n",
      "Accuracy in epoch 532 is 89.48333333333333 percentage\n",
      "Accuracy in epoch 533 is 89.4952380952381 percentage\n",
      "Accuracy in epoch 534 is 89.5095238095238 percentage\n",
      "Accuracy in epoch 535 is 89.51428571428572 percentage\n",
      "Accuracy in epoch 536 is 89.52857142857142 percentage\n",
      "Accuracy in epoch 537 is 89.5404761904762 percentage\n",
      "Accuracy in epoch 538 is 89.55714285714286 percentage\n",
      "Accuracy in epoch 539 is 89.57380952380952 percentage\n",
      "Accuracy in epoch 540 is 89.57857142857144 percentage\n",
      "Accuracy in epoch 541 is 89.58809523809524 percentage\n",
      "Accuracy in epoch 542 is 89.59761904761905 percentage\n",
      "Accuracy in epoch 543 is 89.60952380952381 percentage\n",
      "Accuracy in epoch 544 is 89.62380952380953 percentage\n",
      "Accuracy in epoch 545 is 89.63095238095238 percentage\n",
      "Accuracy in epoch 546 is 89.65238095238095 percentage\n",
      "Accuracy in epoch 547 is 89.6595238095238 percentage\n",
      "Accuracy in epoch 548 is 89.67619047619047 percentage\n",
      "Accuracy in epoch 549 is 89.68809523809523 percentage\n",
      "Accuracy in epoch 550 is 89.68809523809523 percentage\n",
      "Accuracy in epoch 551 is 89.70238095238095 percentage\n",
      "Accuracy in epoch 552 is 89.71428571428571 percentage\n",
      "Accuracy in epoch 553 is 89.72619047619048 percentage\n",
      "Accuracy in epoch 554 is 89.72619047619048 percentage\n",
      "Accuracy in epoch 555 is 89.72857142857143 percentage\n",
      "Accuracy in epoch 556 is 89.73571428571428 percentage\n",
      "Accuracy in epoch 557 is 89.75 percentage\n",
      "Accuracy in epoch 558 is 89.75952380952381 percentage\n",
      "Accuracy in epoch 559 is 89.76666666666667 percentage\n",
      "Accuracy in epoch 560 is 89.77619047619048 percentage\n",
      "Accuracy in epoch 561 is 89.79523809523809 percentage\n",
      "Accuracy in epoch 562 is 89.8 percentage\n",
      "Accuracy in epoch 563 is 89.81666666666666 percentage\n",
      "Accuracy in epoch 564 is 89.82857142857142 percentage\n",
      "Accuracy in epoch 565 is 89.82857142857142 percentage\n",
      "Accuracy in epoch 566 is 89.83571428571429 percentage\n",
      "Accuracy in epoch 567 is 89.8547619047619 percentage\n",
      "Accuracy in epoch 568 is 89.87380952380953 percentage\n",
      "Accuracy in epoch 569 is 89.88571428571429 percentage\n",
      "Accuracy in epoch 570 is 89.91190476190476 percentage\n",
      "Accuracy in epoch 571 is 89.91666666666667 percentage\n",
      "Accuracy in epoch 572 is 89.93095238095238 percentage\n",
      "Accuracy in epoch 573 is 89.94047619047619 percentage\n",
      "Accuracy in epoch 574 is 89.95714285714286 percentage\n",
      "Accuracy in epoch 575 is 89.96428571428572 percentage\n",
      "Accuracy in epoch 576 is 89.98095238095239 percentage\n",
      "Accuracy in epoch 577 is 89.9952380952381 percentage\n",
      "Accuracy in epoch 578 is 90.00952380952381 percentage\n",
      "Accuracy in epoch 579 is 90.01666666666667 percentage\n",
      "Accuracy in epoch 580 is 90.03333333333333 percentage\n",
      "Accuracy in epoch 581 is 90.04285714285714 percentage\n",
      "Accuracy in epoch 582 is 90.05238095238096 percentage\n",
      "Accuracy in epoch 583 is 90.0547619047619 percentage\n",
      "Accuracy in epoch 584 is 90.0547619047619 percentage\n",
      "Accuracy in epoch 585 is 90.07380952380953 percentage\n",
      "Accuracy in epoch 586 is 90.08095238095238 percentage\n",
      "Accuracy in epoch 587 is 90.08809523809524 percentage\n",
      "Accuracy in epoch 588 is 90.10000000000001 percentage\n",
      "Accuracy in epoch 589 is 90.11190476190475 percentage\n",
      "Accuracy in epoch 590 is 90.12857142857142 percentage\n",
      "Accuracy in epoch 591 is 90.13333333333333 percentage\n",
      "Accuracy in epoch 592 is 90.14047619047619 percentage\n",
      "Accuracy in epoch 593 is 90.14999999999999 percentage\n",
      "Accuracy in epoch 594 is 90.16428571428573 percentage\n",
      "Accuracy in epoch 595 is 90.17619047619047 percentage\n",
      "Accuracy in epoch 596 is 90.17857142857143 percentage\n",
      "Accuracy in epoch 597 is 90.18809523809523 percentage\n",
      "Accuracy in epoch 598 is 90.20476190476191 percentage\n",
      "Accuracy in epoch 599 is 90.22380952380954 percentage\n",
      "Accuracy in epoch 600 is 90.23809523809524 percentage\n",
      "Accuracy in epoch 601 is 90.24761904761904 percentage\n",
      "Accuracy in epoch 602 is 90.25238095238095 percentage\n",
      "Accuracy in epoch 603 is 90.26190476190476 percentage\n",
      "Accuracy in epoch 604 is 90.26904761904761 percentage\n",
      "Accuracy in epoch 605 is 90.27857142857142 percentage\n",
      "Accuracy in epoch 606 is 90.28333333333333 percentage\n",
      "Accuracy in epoch 607 is 90.29761904761905 percentage\n",
      "Accuracy in epoch 608 is 90.31428571428572 percentage\n",
      "Accuracy in epoch 609 is 90.32142857142857 percentage\n",
      "Accuracy in epoch 610 is 90.32380952380953 percentage\n",
      "Accuracy in epoch 611 is 90.32857142857142 percentage\n",
      "Accuracy in epoch 612 is 90.33809523809524 percentage\n",
      "Accuracy in epoch 613 is 90.35238095238095 percentage\n",
      "Accuracy in epoch 614 is 90.35952380952381 percentage\n",
      "Accuracy in epoch 615 is 90.35714285714286 percentage\n",
      "Accuracy in epoch 616 is 90.36428571428571 percentage\n",
      "Accuracy in epoch 617 is 90.36666666666666 percentage\n",
      "Accuracy in epoch 618 is 90.36904761904762 percentage\n",
      "Accuracy in epoch 619 is 90.37380952380953 percentage\n",
      "Accuracy in epoch 620 is 90.38333333333334 percentage\n",
      "Accuracy in epoch 621 is 90.39047619047619 percentage\n",
      "Accuracy in epoch 622 is 90.40476190476191 percentage\n",
      "Accuracy in epoch 623 is 90.4095238095238 percentage\n",
      "Accuracy in epoch 624 is 90.41428571428571 percentage\n",
      "Accuracy in epoch 625 is 90.41904761904762 percentage\n",
      "Accuracy in epoch 626 is 90.42380952380952 percentage\n",
      "Accuracy in epoch 627 is 90.42619047619047 percentage\n",
      "Accuracy in epoch 628 is 90.44761904761904 percentage\n",
      "Accuracy in epoch 629 is 90.45714285714286 percentage\n",
      "Accuracy in epoch 630 is 90.46428571428572 percentage\n",
      "Accuracy in epoch 631 is 90.47142857142858 percentage\n",
      "Accuracy in epoch 632 is 90.48095238095239 percentage\n",
      "Accuracy in epoch 633 is 90.48809523809524 percentage\n",
      "Accuracy in epoch 634 is 90.50238095238096 percentage\n",
      "Accuracy in epoch 635 is 90.50952380952381 percentage\n",
      "Accuracy in epoch 636 is 90.51190476190476 percentage\n",
      "Accuracy in epoch 637 is 90.51666666666667 percentage\n",
      "Accuracy in epoch 638 is 90.52857142857142 percentage\n",
      "Accuracy in epoch 639 is 90.53809523809524 percentage\n",
      "Accuracy in epoch 640 is 90.54523809523809 percentage\n",
      "Accuracy in epoch 641 is 90.55 percentage\n",
      "Accuracy in epoch 642 is 90.55714285714286 percentage\n",
      "Accuracy in epoch 643 is 90.5547619047619 percentage\n",
      "Accuracy in epoch 644 is 90.56190476190477 percentage\n",
      "Accuracy in epoch 645 is 90.57142857142857 percentage\n",
      "Accuracy in epoch 646 is 90.58333333333334 percentage\n",
      "Accuracy in epoch 647 is 90.59047619047618 percentage\n",
      "Accuracy in epoch 648 is 90.60238095238095 percentage\n",
      "Accuracy in epoch 649 is 90.60476190476192 percentage\n",
      "Accuracy in epoch 650 is 90.61666666666667 percentage\n",
      "Accuracy in epoch 651 is 90.61428571428571 percentage\n",
      "Accuracy in epoch 652 is 90.61666666666667 percentage\n",
      "Accuracy in epoch 653 is 90.62619047619047 percentage\n",
      "Accuracy in epoch 654 is 90.63809523809525 percentage\n",
      "Accuracy in epoch 655 is 90.64285714285715 percentage\n",
      "Accuracy in epoch 656 is 90.64999999999999 percentage\n",
      "Accuracy in epoch 657 is 90.64761904761905 percentage\n",
      "Accuracy in epoch 658 is 90.66428571428573 percentage\n",
      "Accuracy in epoch 659 is 90.67857142857143 percentage\n",
      "Accuracy in epoch 660 is 90.6952380952381 percentage\n",
      "Accuracy in epoch 661 is 90.7 percentage\n",
      "Accuracy in epoch 662 is 90.7 percentage\n",
      "Accuracy in epoch 663 is 90.71190476190476 percentage\n",
      "Accuracy in epoch 664 is 90.71190476190476 percentage\n",
      "Accuracy in epoch 665 is 90.72619047619047 percentage\n",
      "Accuracy in epoch 666 is 90.74047619047619 percentage\n",
      "Accuracy in epoch 667 is 90.74047619047619 percentage\n",
      "Accuracy in epoch 668 is 90.75 percentage\n",
      "Accuracy in epoch 669 is 90.75714285714285 percentage\n",
      "Accuracy in epoch 670 is 90.76666666666667 percentage\n",
      "Accuracy in epoch 671 is 90.77142857142857 percentage\n",
      "Accuracy in epoch 672 is 90.77380952380952 percentage\n",
      "Accuracy in epoch 673 is 90.78809523809524 percentage\n",
      "Accuracy in epoch 674 is 90.80238095238096 percentage\n",
      "Accuracy in epoch 675 is 90.81428571428572 percentage\n",
      "Accuracy in epoch 676 is 90.82142857142857 percentage\n",
      "Accuracy in epoch 677 is 90.82857142857142 percentage\n",
      "Accuracy in epoch 678 is 90.83571428571429 percentage\n",
      "Accuracy in epoch 679 is 90.84285714285714 percentage\n",
      "Accuracy in epoch 680 is 90.8547619047619 percentage\n",
      "Accuracy in epoch 681 is 90.8547619047619 percentage\n",
      "Accuracy in epoch 682 is 90.86428571428571 percentage\n",
      "Accuracy in epoch 683 is 90.86904761904762 percentage\n",
      "Accuracy in epoch 684 is 90.87619047619047 percentage\n",
      "Accuracy in epoch 685 is 90.88095238095238 percentage\n",
      "Accuracy in epoch 686 is 90.87619047619047 percentage\n",
      "Accuracy in epoch 687 is 90.88095238095238 percentage\n",
      "Accuracy in epoch 688 is 90.88809523809523 percentage\n",
      "Accuracy in epoch 689 is 90.89285714285714 percentage\n",
      "Accuracy in epoch 690 is 90.9095238095238 percentage\n",
      "Accuracy in epoch 691 is 90.91904761904762 percentage\n",
      "Accuracy in epoch 692 is 90.93095238095238 percentage\n",
      "Accuracy in epoch 693 is 90.94047619047619 percentage\n",
      "Accuracy in epoch 694 is 90.94761904761904 percentage\n",
      "Accuracy in epoch 695 is 90.95238095238095 percentage\n",
      "Accuracy in epoch 696 is 90.96190476190476 percentage\n",
      "Accuracy in epoch 697 is 90.95714285714286 percentage\n",
      "Accuracy in epoch 698 is 90.95714285714286 percentage\n",
      "Accuracy in epoch 699 is 90.96428571428572 percentage\n",
      "Accuracy in epoch 700 is 90.96904761904761 percentage\n",
      "Accuracy in epoch 701 is 90.98095238095239 percentage\n",
      "Accuracy in epoch 702 is 90.98809523809524 percentage\n",
      "Accuracy in epoch 703 is 90.98809523809524 percentage\n",
      "Accuracy in epoch 704 is 91.00238095238096 percentage\n",
      "Accuracy in epoch 705 is 91.01428571428572 percentage\n",
      "Accuracy in epoch 706 is 91.01666666666667 percentage\n",
      "Accuracy in epoch 707 is 91.02380952380953 percentage\n",
      "Accuracy in epoch 708 is 91.02857142857142 percentage\n",
      "Accuracy in epoch 709 is 91.0404761904762 percentage\n",
      "Accuracy in epoch 710 is 91.04761904761904 percentage\n",
      "Accuracy in epoch 711 is 91.05714285714286 percentage\n",
      "Accuracy in epoch 712 is 91.05952380952381 percentage\n",
      "Accuracy in epoch 713 is 91.06190476190477 percentage\n",
      "Accuracy in epoch 714 is 91.06904761904761 percentage\n",
      "Accuracy in epoch 715 is 91.07142857142857 percentage\n",
      "Accuracy in epoch 716 is 91.07857142857144 percentage\n",
      "Accuracy in epoch 717 is 91.08095238095238 percentage\n",
      "Accuracy in epoch 718 is 91.08095238095238 percentage\n",
      "Accuracy in epoch 719 is 91.08095238095238 percentage\n",
      "Accuracy in epoch 720 is 91.08333333333334 percentage\n",
      "Accuracy in epoch 721 is 91.08809523809524 percentage\n",
      "Accuracy in epoch 722 is 91.09285714285714 percentage\n",
      "Accuracy in epoch 723 is 91.10000000000001 percentage\n",
      "Accuracy in epoch 724 is 91.10952380952381 percentage\n",
      "Accuracy in epoch 725 is 91.12857142857142 percentage\n",
      "Accuracy in epoch 726 is 91.12857142857142 percentage\n",
      "Accuracy in epoch 727 is 91.14047619047619 percentage\n",
      "Accuracy in epoch 728 is 91.14047619047619 percentage\n",
      "Accuracy in epoch 729 is 91.14047619047619 percentage\n",
      "Accuracy in epoch 730 is 91.14523809523808 percentage\n",
      "Accuracy in epoch 731 is 91.16190476190476 percentage\n",
      "Accuracy in epoch 732 is 91.17380952380952 percentage\n",
      "Accuracy in epoch 733 is 91.18333333333334 percentage\n",
      "Accuracy in epoch 734 is 91.18571428571428 percentage\n",
      "Accuracy in epoch 735 is 91.2 percentage\n",
      "Accuracy in epoch 736 is 91.20714285714286 percentage\n",
      "Accuracy in epoch 737 is 91.2047619047619 percentage\n",
      "Accuracy in epoch 738 is 91.21428571428571 percentage\n",
      "Accuracy in epoch 739 is 91.21666666666667 percentage\n",
      "Accuracy in epoch 740 is 91.21666666666667 percentage\n",
      "Accuracy in epoch 741 is 91.22142857142858 percentage\n",
      "Accuracy in epoch 742 is 91.23095238095237 percentage\n",
      "Accuracy in epoch 743 is 91.23809523809524 percentage\n",
      "Accuracy in epoch 744 is 91.2452380952381 percentage\n",
      "Accuracy in epoch 745 is 91.2452380952381 percentage\n",
      "Accuracy in epoch 746 is 91.2547619047619 percentage\n",
      "Accuracy in epoch 747 is 91.25714285714285 percentage\n",
      "Accuracy in epoch 748 is 91.25952380952381 percentage\n",
      "Accuracy in epoch 749 is 91.26904761904761 percentage\n",
      "Accuracy in epoch 750 is 91.27619047619048 percentage\n",
      "Accuracy in epoch 751 is 91.28571428571428 percentage\n",
      "Accuracy in epoch 752 is 91.29523809523809 percentage\n",
      "Accuracy in epoch 753 is 91.29761904761905 percentage\n",
      "Accuracy in epoch 754 is 91.3047619047619 percentage\n",
      "Accuracy in epoch 755 is 91.31904761904762 percentage\n",
      "Accuracy in epoch 756 is 91.31904761904762 percentage\n",
      "Accuracy in epoch 757 is 91.32619047619048 percentage\n",
      "Accuracy in epoch 758 is 91.32857142857142 percentage\n",
      "Accuracy in epoch 759 is 91.33571428571429 percentage\n",
      "Accuracy in epoch 760 is 91.34523809523809 percentage\n",
      "Accuracy in epoch 761 is 91.35714285714286 percentage\n",
      "Accuracy in epoch 762 is 91.37380952380953 percentage\n",
      "Accuracy in epoch 763 is 91.37857142857143 percentage\n",
      "Accuracy in epoch 764 is 91.38571428571429 percentage\n",
      "Accuracy in epoch 765 is 91.38809523809523 percentage\n",
      "Accuracy in epoch 766 is 91.3952380952381 percentage\n",
      "Accuracy in epoch 767 is 91.4 percentage\n",
      "Accuracy in epoch 768 is 91.40238095238095 percentage\n",
      "Accuracy in epoch 769 is 91.39761904761905 percentage\n",
      "Accuracy in epoch 770 is 91.39761904761905 percentage\n",
      "Accuracy in epoch 771 is 91.40714285714286 percentage\n",
      "Accuracy in epoch 772 is 91.41428571428571 percentage\n",
      "Accuracy in epoch 773 is 91.42619047619047 percentage\n",
      "Accuracy in epoch 774 is 91.43571428571428 percentage\n",
      "Accuracy in epoch 775 is 91.4452380952381 percentage\n",
      "Accuracy in epoch 776 is 91.45 percentage\n",
      "Accuracy in epoch 777 is 91.45 percentage\n",
      "Accuracy in epoch 778 is 91.46190476190476 percentage\n",
      "Accuracy in epoch 779 is 91.47142857142858 percentage\n",
      "Accuracy in epoch 780 is 91.49047619047619 percentage\n",
      "Accuracy in epoch 781 is 91.49761904761905 percentage\n",
      "Accuracy in epoch 782 is 91.49761904761905 percentage\n",
      "Accuracy in epoch 783 is 91.5 percentage\n",
      "Accuracy in epoch 784 is 91.5047619047619 percentage\n",
      "Accuracy in epoch 785 is 91.51666666666667 percentage\n",
      "Accuracy in epoch 786 is 91.53333333333333 percentage\n",
      "Accuracy in epoch 787 is 91.53333333333333 percentage\n",
      "Accuracy in epoch 788 is 91.54523809523809 percentage\n",
      "Accuracy in epoch 789 is 91.55238095238096 percentage\n",
      "Accuracy in epoch 790 is 91.55714285714286 percentage\n",
      "Accuracy in epoch 791 is 91.5642857142857 percentage\n",
      "Accuracy in epoch 792 is 91.56190476190477 percentage\n",
      "Accuracy in epoch 793 is 91.56904761904762 percentage\n",
      "Accuracy in epoch 794 is 91.57857142857144 percentage\n",
      "Accuracy in epoch 795 is 91.58571428571427 percentage\n",
      "Accuracy in epoch 796 is 91.5952380952381 percentage\n",
      "Accuracy in epoch 797 is 91.60000000000001 percentage\n",
      "Accuracy in epoch 798 is 91.61190476190477 percentage\n",
      "Accuracy in epoch 799 is 91.61666666666667 percentage\n",
      "test accuracy is 74.03740374037405 \n"
     ]
    },
    {
     "name": "stderr",
     "output_type": "stream",
     "text": [
      "<ipython-input-2-fb1f12a46df9>:62: RuntimeWarning: overflow encountered in exp\n",
      "  y=1/(1+np.exp(-x) )\n"
     ]
    },
    {
     "data": {
      "image/png": "[encoded data removed]",
      "text/plain": [
       "<Figure size 432x288 with 1 Axes>"
      ]
     },
     "metadata": {
      "needs_background": "light"
     },
     "output_type": "display_data"
    },
    {
     "name": "stdout",
     "output_type": "stream",
     "text": [
      "Actually it is 2 predicted is 2\n"
     ]
    },
    {
     "data": {
      "image/png": "[encoded data removed]",
      "text/plain": [
       "<Figure size 432x288 with 1 Axes>"
      ]
     },
     "metadata": {
      "needs_background": "light"
     },
     "output_type": "display_data"
    },
    {
     "name": "stdout",
     "output_type": "stream",
     "text": [
      "Actually it is 1 predicted is 8\n"
     ]
    },
    {
     "data": {
      "image/png": "[encoded data removed]",
      "text/plain": [
       "<Figure size 432x288 with 1 Axes>"
      ]
     },
     "metadata": {
      "needs_background": "light"
     },
     "output_type": "display_data"
    },
    {
     "name": "stdout",
     "output_type": "stream",
     "text": [
      "Actually it is 0 predicted is 0\n"
     ]
    },
    {
     "data": {
      "image/png": "[encoded data removed]",
      "text/plain": [
       "<Figure size 432x288 with 1 Axes>"
      ]
     },
     "metadata": {
      "needs_background": "light"
     },
     "output_type": "display_data"
    },
    {
     "name": "stdout",
     "output_type": "stream",
     "text": [
      "Actually it is 4 predicted is 9\n"
     ]
    },
    {
     "data": {
      "image/png": "[encoded data removed]",
      "text/plain": [
       "<Figure size 432x288 with 1 Axes>"
      ]
     },
     "metadata": {
      "needs_background": "light"
     },
     "output_type": "display_data"
    },
    {
     "name": "stdout",
     "output_type": "stream",
     "text": [
      "Actually it is 1 predicted is 8\n"
     ]
    },
    {
     "data": {
      "image/png": "[encoded data removed]",
      "text/plain": [
       "<Figure size 432x288 with 1 Axes>"
      ]
     },
     "metadata": {
      "needs_background": "light"
     },
     "output_type": "display_data"
    },
    {
     "name": "stdout",
     "output_type": "stream",
     "text": [
      "Actually it is 4 predicted is 4\n"
     ]
    },
    {
     "data": {
      "image/png": "[encoded data removed]",
      "text/plain": [
       "<Figure size 432x288 with 1 Axes>"
      ]
     },
     "metadata": {
      "needs_background": "light"
     },
     "output_type": "display_data"
    },
    {
     "name": "stdout",
     "output_type": "stream",
     "text": [
      "Actually it is 9 predicted is 9\n"
     ]
    },
    {
     "data": {
      "image/png": "[encoded data removed]",
      "text/plain": [
       "<Figure size 432x288 with 1 Axes>"
      ]
     },
     "metadata": {
      "needs_background": "light"
     },
     "output_type": "display_data"
    },
    {
     "name": "stdout",
     "output_type": "stream",
     "text": [
      "Actually it is 5 predicted is 6\n"
     ]
    },
    {
     "data": {
      "image/png": "[encoded data removed]",
      "text/plain": [
       "<Figure size 432x288 with 1 Axes>"
      ]
     },
     "metadata": {
      "needs_background": "light"
     },
     "output_type": "display_data"
    },
    {
     "name": "stdout",
     "output_type": "stream",
     "text": [
      "Actually it is 9 predicted is 9\n"
     ]
    },
    {
     "data": {
      "image/png": "[encoded data removed]",
      "text/plain": [
       "<Figure size 432x288 with 1 Axes>"
      ]
     },
     "metadata": {
      "needs_background": "light"
     },
     "output_type": "display_data"
    },
    {
     "name": "stdout",
     "output_type": "stream",
     "text": [
      "Actually it is 0 predicted is 0\n"
     ]
    },
    {
     "data": {
      "image/png": "[encoded data removed]",
      "text/plain": [
       "<Figure size 432x288 with 1 Axes>"
      ]
     },
     "metadata": {
      "needs_background": "light"
     },
     "output_type": "display_data"
    },
    {
     "name": "stdout",
     "output_type": "stream",
     "text": [
      "Actually it is 6 predicted is 8\n"
     ]
    },
    {
     "data": {
      "image/png": "[encoded data removed]",
      "text/plain": [
       "<Figure size 432x288 with 1 Axes>"
      ]
     },
     "metadata": {
      "needs_background": "light"
     },
     "output_type": "display_data"
    },
    {
     "name": "stdout",
     "output_type": "stream",
     "text": [
      "Actually it is 9 predicted is 9\n"
     ]
    },
    {
     "data": {
      "image/png": "[encoded data removed]",
      "text/plain": [
       "<Figure size 432x288 with 1 Axes>"
      ]
     },
     "metadata": {
      "needs_background": "light"
     },
     "output_type": "display_data"
    },
    {
     "name": "stdout",
     "output_type": "stream",
     "text": [
      "Actually it is 0 predicted is 0\n"
     ]
    },
    {
     "data": {
      "image/png": "[encoded data removed]",
      "text/plain": [
       "<Figure size 432x288 with 1 Axes>"
      ]
     },
     "metadata": {
      "needs_background": "light"
     },
     "output_type": "display_data"
    },
    {
     "name": "stdout",
     "output_type": "stream",
     "text": [
      "Actually it is 1 predicted is 1\n"
     ]
    },
    {
     "data": {
      "image/png": "[encoded data removed]",
      "text/plain": [
       "<Figure size 432x288 with 1 Axes>"
      ]
     },
     "metadata": {
      "needs_background": "light"
     },
     "output_type": "display_data"
    },
    {
     "name": "stdout",
     "output_type": "stream",
     "text": [
      "Actually it is 5 predicted is 3\n"
     ]
    },
    {
     "data": {
      "image/png": "[encoded data removed]",
      "text/plain": [
       "<Figure size 432x288 with 1 Axes>"
      ]
     },
     "metadata": {
      "needs_background": "light"
     },
     "output_type": "display_data"
    },
    {
     "name": "stdout",
     "output_type": "stream",
     "text": [
      "Actually it is 9 predicted is 9\n"
     ]
    },
    {
     "data": {
      "image/png": "[encoded data removed]",
      "text/plain": [
       "<Figure size 432x288 with 1 Axes>"
      ]
     },
     "metadata": {
      "needs_background": "light"
     },
     "output_type": "display_data"
    },
    {
     "name": "stdout",
     "output_type": "stream",
     "text": [
      "Actually it is 7 predicted is 7\n"
     ]
    },
    {
     "data": {
      "image/png": "[encoded data removed]",
      "text/plain": [
       "<Figure size 432x288 with 1 Axes>"
      ]
     },
     "metadata": {
      "needs_background": "light"
     },
     "output_type": "display_data"
    },
    {
     "name": "stdout",
     "output_type": "stream",
     "text": [
      "Actually it is 3 predicted is 8\n"
     ]
    },
    {
     "data": {
      "image/png": "[encoded data removed]",
      "text/plain": [
       "<Figure size 432x288 with 1 Axes>"
      ]
     },
     "metadata": {
      "needs_background": "light"
     },
     "output_type": "display_data"
    },
    {
     "name": "stdout",
     "output_type": "stream",
     "text": [
      "Actually it is 4 predicted is 4\n"
     ]
    },
    {
     "data": {
      "image/png": "[encoded data removed]",
      "text/plain": [
       "<Figure size 432x288 with 1 Axes>"
      ]
     },
     "metadata": {
      "needs_background": "light"
     },
     "output_type": "display_data"
    },
    {
     "name": "stdout",
     "output_type": "stream",
     "text": [
      "Actually it is 9 predicted is 9\n"
     ]
    },
    {
     "data": {
      "image/png": "[encoded data removed]",
      "text/plain": [
       "<Figure size 432x288 with 1 Axes>"
      ]
     },
     "metadata": {
      "needs_background": "light"
     },
     "output_type": "display_data"
    },
    {
     "name": "stdout",
     "output_type": "stream",
     "text": [
      "Actually it is 6 predicted is 6\n"
     ]
    },
    {
     "data": {
      "image/png": "[encoded data removed]",
      "text/plain": [
       "<Figure size 432x288 with 1 Axes>"
      ]
     },
     "metadata": {
      "needs_background": "light"
     },
     "output_type": "display_data"
    },
    {
     "name": "stdout",
     "output_type": "stream",
     "text": [
      "Actually it is 6 predicted is 4\n"
     ]
    },
    {
     "data": {
      "image/png": "[encoded data removed]",
      "text/plain": [
       "<Figure size 432x288 with 1 Axes>"
      ]
     },
     "metadata": {
      "needs_background": "light"
     },
     "output_type": "display_data"
    },
    {
     "name": "stdout",
     "output_type": "stream",
     "text": [
      "Actually it is 5 predicted is 5\n"
     ]
    },
    {
     "data": {
      "image/png": "[encoded data removed]",
      "text/plain": [
       "<Figure size 432x288 with 1 Axes>"
      ]
     },
     "metadata": {
      "needs_background": "light"
     },
     "output_type": "display_data"
    },
    {
     "name": "stdout",
     "output_type": "stream",
     "text": [
      "Actually it is 4 predicted is 4\n"
     ]
    },
    {
     "data": {
      "image/png": "[encoded data removed]",
      "text/plain": [
       "<Figure size 432x288 with 1 Axes>"
      ]
     },
     "metadata": {
      "needs_background": "light"
     },
     "output_type": "display_data"
    },
    {
     "name": "stdout",
     "output_type": "stream",
     "text": [
      "Actually it is 0 predicted is 0\n"
     ]
    },
    {
     "data": {
      "image/png": "[encoded data removed]",
      "text/plain": [
       "<Figure size 432x288 with 1 Axes>"
      ]
     },
     "metadata": {
      "needs_background": "light"
     },
     "output_type": "display_data"
    },
    {
     "name": "stdout",
     "output_type": "stream",
     "text": [
      "Actually it is 7 predicted is 7\n"
     ]
    },
    {
     "data": {
      "image/png": "[encoded data removed]",
      "text/plain": [
       "<Figure size 432x288 with 1 Axes>"
      ]
     },
     "metadata": {
      "needs_background": "light"
     },
     "output_type": "display_data"
    },
    {
     "name": "stdout",
     "output_type": "stream",
     "text": [
      "Actually it is 4 predicted is 9\n"
     ]
    },
    {
     "data": {
      "image/png": "[encoded data removed]",
      "text/plain": [
       "<Figure size 432x288 with 1 Axes>"
      ]
     },
     "metadata": {
      "needs_background": "light"
     },
     "output_type": "display_data"
    },
    {
     "name": "stdout",
     "output_type": "stream",
     "text": [
      "Actually it is 0 predicted is 0\n"
     ]
    },
    {
     "data": {
      "image/png": "[encoded data removed]",
      "text/plain": [
       "<Figure size 432x288 with 1 Axes>"
      ]
     },
     "metadata": {
      "needs_background": "light"
     },
     "output_type": "display_data"
    },
    {
     "name": "stdout",
     "output_type": "stream",
     "text": [
      "Actually it is 1 predicted is 8\n"
     ]
    },
    {
     "data": {
      "image/png": "[encoded data removed]",
      "text/plain": [
       "<Figure size 432x288 with 1 Axes>"
      ]
     },
     "metadata": {
      "needs_background": "light"
     },
     "output_type": "display_data"
    },
    {
     "name": "stdout",
     "output_type": "stream",
     "text": [
      "Actually it is 3 predicted is 3\n"
     ]
    }
   ],
   "source": [
    "class ann:\n",
    "    def __init__(self,train,train_result,training_label,test,test_result,testing_label,epoches,alpha,hidden_layers,l):  \n",
    "        self.train=train\n",
    "        self.train_result=train_result\n",
    "        self.training_label=training_label\n",
    "        self.test=test \n",
    "        self.test_result=test_result\n",
    "        self.testing_label=testing_label\n",
    "        self.epoches=epoches\n",
    "        self.alpha=alpha\n",
    "        self.l=l          # activation function between each rows\n",
    "\n",
    "        self.input_features=np.shape(train)[0] # along the rows \n",
    "        self.output_features = np.shape(train_result)[0]\n",
    "        self.m=np.shape(train)[1]      # along the columns in a row    \n",
    "\n",
    "        self.layers=[self.input_features]+hidden_layers+[self.output_features]   # contains number of features in each layer including start , hidden and end layers\n",
    "\n",
    "\n",
    "        weights=[]     \n",
    "        bias=[]\n",
    "         \n",
    "        \n",
    "        error_wrt_z=[]\n",
    "        error_wrt_w=[]\n",
    "        error_wrt_b=[]\n",
    "\n",
    "        for i in range(len(self.layers)-1): \n",
    "            a=np.random.rand (self.layers[i+1],self.layers[i])-0.5\n",
    "            weights.append(a)\n",
    "\n",
    "            b=np.random.rand(self.layers[i+1],1)-0.5          # will use broad casting                                              \n",
    "            bias.append(b) \n",
    "\n",
    "            error_wrt_w.append(i)    # how many dw and db will be there , later i's will be updated with dw and db matrices \n",
    "\n",
    "            error_wrt_b.append(i)      # there will be number of (layers - 1) matrices for weights,bias,error wrt w,b,z in each forward propagation   \n",
    "\n",
    "            error_wrt_z.append(i)  \n",
    "        \n",
    "        self.weights=weights\n",
    "        self.bias=bias\n",
    "\n",
    "       \n",
    "        self.error_wrt_z= error_wrt_z\n",
    "        self.error_wrt_w= error_wrt_w\n",
    "        self.error_wrt_b= error_wrt_b\n",
    "\n",
    "        self.activations=[]\n",
    "        self.z=[]\n",
    "\n",
    "        self.function_derivitive=[self.reluDerivative,self.sigmoid_derivative]  # in middle layers put relu or sigmoid only you cannnot put softmax in middle as you dont know d softmax(z) / d(z)\n",
    "        self.function=[self.relu,self.sigmoid,self.softmax]  \n",
    "\n",
    "\n",
    "\n",
    "    def relu(self,x):\n",
    "        return np.maximum(0.0, x)\n",
    "\n",
    "\n",
    "    def sigmoid(self , x):\n",
    "        y=1/(1+np.exp(-x) )                       \n",
    "        return y\n",
    "        \n",
    "    def sigmoid_derivative(self, x):        #  d sigma(z) / d(z) = sigma(z)*(1-sigma(z)) \n",
    "        return np.multiply(x,(1-x))         # in this we are finding for all the a's of the matrix \n",
    "\n",
    "    def reluDerivative(self,x):\n",
    "        y=np.copy(x)\n",
    "        y[y<=0] = 0\n",
    "        y[y>0] = 1\n",
    "        return y     \n",
    "\n",
    "    def softmax (self,x):\n",
    "        e=np.exp(x)\n",
    "        return e/(np.sum(e,axis=0))  \n",
    "\n",
    "\n",
    "    def forward_propogate(self,data): # we are using forward prop on training as well as testing data so \n",
    "        self.activations.clear()   #  with each epoch our w will be updated as dw db dz will be updated so we will be getting new activations as well as z  after each eppoch\n",
    "        self.z.clear()\n",
    "        self.z.append(data)\n",
    "        self.activations.append(data)        ### note z and a will contain all the layers from  1st given layer at indeex 0 to the last output predicted layer \n",
    "      \n",
    "        for i in range (len(self.layers)-1):\n",
    "            self.z.append(np.add (np.dot(self.weights[i],self.activations[i]) ,self.bias[i]))\n",
    "        \n",
    "           # self.z.append(np.add( np.dot( self.weights[i],self.activations[i] ) ,np.repeat(self.bias[i],self.m,axis=1)) )    \n",
    "            self.activations.append(self.function[self.l[i]](self.z[i+1]  ) )  \n",
    "\n",
    "\n",
    "\n",
    "    def backward_propogation(self):  # we dont know d softmax(z) / d (z) so we are not using dz formula for last layer \n",
    "        self.error_wrt_z[len(self.layers)-2]=np.subtract(self.activations[len(self.layers)-1] , self.train_result )\n",
    "        for i in reversed(range(len(self.layers) - 1)):\n",
    "            self.error_wrt_w[i] = 1/self.m*(np.dot((self.error_wrt_z[i]),np.transpose(self.activations[i])))  \n",
    "            \n",
    "            self.error_wrt_b[i]=1/self.m *(np.sum(self.error_wrt_z[i] , axis=1 , keepdims=True))\n",
    "\n",
    "            if i>=1:\n",
    "                    self.error_wrt_z[i-1]=np.multiply (  np.dot ( np.transpose (self.weights[i]) , self.error_wrt_z[i] )  , self.function_derivitive[ self.l[i-1] ] ( self.function[ self.l[i-1] ]   (self.z[i]) ) )\n",
    "            else:\n",
    "                continue\n",
    "\n",
    "    def training(self):\n",
    "        for i in range(self.epoches):\n",
    "            self.forward_propogate(data=self.train)\n",
    "            final_prediction=self.predict()\n",
    "            accuracy_percentage=self.accuracy(final_prediction,actual_result=self.training_label)\n",
    "            print(\"Accuracy in epoch {} is {} percentage\".format(i,accuracy_percentage))\n",
    "            self.backward_propogation()\n",
    "            for j in range(len (self.layers)-1):\n",
    "                self.weights[j]=np.subtract(self.weights[j],self.alpha*self.error_wrt_w[j])\n",
    "                \n",
    "                self.bias[j]=np.subtract(self.bias[j],self.alpha*self.error_wrt_b[j])\n",
    "    \n",
    "     \n",
    "    def predict(self):                   \n",
    "        return (np.argmax(self.activations[-1], axis=0)[np.newaxis,:])        \n",
    "     \n",
    "    def accuracy(self,final_prediction,actual_result):\n",
    "        accuracy_per = (np.sum(actual_result ==final_prediction) / (actual_result).shape[1] ) * 100\n",
    "        return accuracy_per\n",
    "\n",
    "    def testing(self):\n",
    "      self.forward_propogate(data=self.test)\n",
    "      final_prediction=self.predict()  # now activation layers are for testing data after running this function so we are predicting on testing data only\n",
    "      accuracy_perct=self.accuracy(final_prediction=final_prediction,actual_result=self.testing_label)\n",
    "      \n",
    "      return  accuracy_perct,final_prediction\n",
    "\n",
    "    def draw(self,indexes,a):    # Run after running testing so you have the predictions saved for your testing data  ****its only for testing data ****\n",
    "      for i in range (indexes):\n",
    "        pixel=a[i,np.newaxis].reshape((28,28))\n",
    "        plt.gray()\n",
    "        plt.imshow(pixel, interpolation='nearest')\n",
    "        plt.show()\n",
    "\n",
    "        label=self.testing_label[0,i]\n",
    "        prediction=self.testing()[1][0,i]\n",
    "\n",
    "        print(\"Actually it is {} predicted is {}\".format(label,prediction))\n",
    "\n",
    "        \n",
    "\n",
    "\n",
    "model=ann(train=x_train,train_result=y_train,training_label=y,test=test_x,test_result=test_y,testing_label=test_labels,epoches=800,alpha=0.3,hidden_layers=[50,20,10],l=[0,1,0,2])\n",
    "model.training()\n",
    "\n",
    "test_accuracy=model.testing()[0]\n",
    "print(\"test accuracy is {} \".format(test_accuracy))\n",
    "\n",
    "model.draw(indexes=30,a=a)\n",
    "\n",
    "\n",
    "\n"
   ]
  },
  {
   "cell_type": "code",
   "execution_count": null,
   "metadata": {},
   "outputs": [],
   "source": []
  }
 ],
 "metadata": {
  "interpreter": {
   "hash": "8ae54068e622f61d47b992eee920515c98b314ebd4be04c0239c7d903a657733"
  },
  "kernelspec": {
   "display_name": "Python 3.8.8",
   "language": "python",
   "name": "python3"
  },
  "language_info": {
   "codemirror_mode": {
    "name": "ipython",
    "version": 3
   },
   "file_extension": ".py",
   "mimetype": "text/x-python",
   "name": "python",
   "nbconvert_exporter": "python",
   "pygments_lexer": "ipython3",
   "version": "3.8.8"
  },
  "orig_nbformat": 4
 },
 "nbformat": 4,
 "nbformat_minor": 2
}
