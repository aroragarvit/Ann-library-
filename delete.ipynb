{
 "cells": [
  {
   "cell_type": "code",
   "execution_count": 1,
   "metadata": {},
   "outputs": [
    {
     "name": "stdout",
     "output_type": "stream",
     "text": [
      "[[0.16659463 0.04158373 0.54150273 0.8294119  0.2634445 ]]\n",
      "[[ True  True False False  True]]\n"
     ]
    },
    {
     "data": {
      "text/plain": [
       "array([[1, 1, 0, 0, 1]])"
      ]
     },
     "execution_count": 1,
     "metadata": {},
     "output_type": "execute_result"
    }
   ],
   "source": [
    "import numpy as np\n",
    "a=np.random.rand(1,5)\n",
    "print(a)\n",
    "def binary(a):\n",
    "\n",
    "    arraycc= 0.5>=a    \n",
    "    print(arraycc)\n",
    "    return(arraycc.astype(int))\n",
    "\n",
    "b = binary(a)\n",
    "b\n"
   ]
  },
  {
   "cell_type": "code",
   "execution_count": 5,
   "metadata": {},
   "outputs": [
    {
     "name": "stdout",
     "output_type": "stream",
     "text": [
      "[[2.01292727 1.84095876 2.02456852 2.04228384 1.99250704]]\n"
     ]
    }
   ],
   "source": [
    "def sigmoid( x):\n",
    "        y=1/(1+np.exp(-x) )                       \n",
    "        return y\n",
    "\n",
    "z= np.array([ [2.01292727, 1.84095876 ,2.02456852 ,2.04228384 ,1.99250704] ])\n",
    "print(z)\n",
    "sig=sigmoid(z)\n",
    "print(sig)"
   ]
  },
  {
   "cell_type": "code",
   "execution_count": null,
   "metadata": {},
   "outputs": [],
   "source": []
  }
 ],
 "metadata": {
  "interpreter": {
   "hash": "8ae54068e622f61d47b992eee920515c98b314ebd4be04c0239c7d903a657733"
  },
  "kernelspec": {
   "display_name": "Python 3.8.8",
   "language": "python",
   "name": "python3"
  },
  "language_info": {
   "codemirror_mode": {
    "name": "ipython",
    "version": 3
   },
   "file_extension": ".py",
   "mimetype": "text/x-python",
   "name": "python",
   "nbconvert_exporter": "python",
   "pygments_lexer": "ipython3",
   "version": "3.8.8"
  },
  "orig_nbformat": 4
 },
 "nbformat": 4,
 "nbformat_minor": 2
}
