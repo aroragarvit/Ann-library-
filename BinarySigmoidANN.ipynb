{
 "cells": [
  {
   "cell_type": "code",
   "execution_count": 8,
   "metadata": {},
   "outputs": [
    {
     "name": "stdout",
     "output_type": "stream",
     "text": [
      "(784, 42000)\n",
      "(784, 9999)\n",
      "(10, 9999)\n",
      "(1, 9999)\n"
     ]
    }
   ],
   "source": [
    "import numpy as np\n",
    "import pandas as pd\n",
    "np.set_printoptions(suppress=True)\n",
    "np.set_printoptions(threshold=np.inf)\n",
    "from tensorflow.keras.utils import to_categorical\n",
    "from sklearn.preprocessing import StandardScaler\n",
    "from matplotlib import pyplot as plt\n",
    "\n",
    "dataset=pd.read_csv(\"/home/garvitarora/Garvit/programs/neural_networks/mnsit_train.csv\")\n",
    "\n",
    "x = dataset.iloc[:, 1:785].values\n",
    "y = dataset.iloc[:, 0].values\n",
    "\n",
    "y_train=np.transpose(to_categorical(y))\n",
    "\n",
    "y=y[np.newaxis,:]\n",
    "\n",
    "x_train=x\n",
    "sc = StandardScaler()\n",
    "x_train = sc.fit_transform(x_train)\n",
    "x_train=np.transpose(x_train)\n",
    "\n",
    "\n",
    "\n",
    "test_dataset=pd.read_csv(\"/home/garvitarora/Garvit/programs/neural_networks/mnist_test.csv\")\n",
    "\n",
    "a=test_dataset.iloc[:,1:785].values\n",
    "b=test_dataset.iloc[:,0].values\n",
    "\n",
    "test_y=np.transpose(to_categorical(b))\n",
    "\n",
    "test_x=np.transpose(a)\n",
    "\n",
    "test_labels=b[np.newaxis,:]\n",
    "print(x_train.shape)\n",
    "\n",
    "print(test_x.shape)\n",
    "print(test_y.shape)\n",
    "print(test_labels.shape)\n"
   ]
  },
  {
   "cell_type": "code",
   "execution_count": 12,
   "metadata": {},
   "outputs": [
    {
     "name": "stdout",
     "output_type": "stream",
     "text": [
      "Accuracy in epoch 0 is 11.05 percentage\n",
      "Accuracy in epoch 1 is 9.4 percentage\n",
      "Accuracy in epoch 2 is 8.311904761904762 percentage\n",
      "Accuracy in epoch 3 is 7.997619047619048 percentage\n",
      "Accuracy in epoch 4 is 8.5 percentage\n",
      "Accuracy in epoch 5 is 11.823809523809524 percentage\n",
      "Accuracy in epoch 6 is 14.46904761904762 percentage\n",
      "Accuracy in epoch 7 is 15.85952380952381 percentage\n",
      "Accuracy in epoch 8 is 16.323809523809523 percentage\n",
      "Accuracy in epoch 9 is 16.442857142857143 percentage\n",
      "Accuracy in epoch 10 is 16.597619047619048 percentage\n",
      "Accuracy in epoch 11 is 16.792857142857144 percentage\n",
      "Accuracy in epoch 12 is 17.06190476190476 percentage\n",
      "Accuracy in epoch 13 is 17.349999999999998 percentage\n",
      "Accuracy in epoch 14 is 17.7 percentage\n",
      "Accuracy in epoch 15 is 18.085714285714285 percentage\n",
      "Accuracy in epoch 16 is 18.409523809523808 percentage\n",
      "Accuracy in epoch 17 is 18.76904761904762 percentage\n",
      "Accuracy in epoch 18 is 19.20952380952381 percentage\n",
      "Accuracy in epoch 19 is 19.669047619047618 percentage\n",
      "Accuracy in epoch 20 is 20.197619047619046 percentage\n",
      "Accuracy in epoch 21 is 20.78095238095238 percentage\n",
      "Accuracy in epoch 22 is 21.419047619047618 percentage\n",
      "Accuracy in epoch 23 is 22.035714285714285 percentage\n",
      "Accuracy in epoch 24 is 22.61190476190476 percentage\n",
      "Accuracy in epoch 25 is 23.214285714285715 percentage\n",
      "Accuracy in epoch 26 is 23.733333333333334 percentage\n",
      "Accuracy in epoch 27 is 24.288095238095238 percentage\n",
      "Accuracy in epoch 28 is 24.864285714285714 percentage\n",
      "Accuracy in epoch 29 is 25.411904761904765 percentage\n",
      "Accuracy in epoch 30 is 25.97380952380952 percentage\n",
      "Accuracy in epoch 31 is 26.561904761904763 percentage\n",
      "Accuracy in epoch 32 is 27.07857142857143 percentage\n",
      "Accuracy in epoch 33 is 27.55 percentage\n",
      "Accuracy in epoch 34 is 28.000000000000004 percentage\n",
      "Accuracy in epoch 35 is 28.385714285714286 percentage\n",
      "Accuracy in epoch 36 is 28.892857142857142 percentage\n",
      "Accuracy in epoch 37 is 29.33571428571429 percentage\n",
      "Accuracy in epoch 38 is 29.86190476190476 percentage\n",
      "Accuracy in epoch 39 is 30.364285714285717 percentage\n",
      "Accuracy in epoch 40 is 30.79047619047619 percentage\n",
      "Accuracy in epoch 41 is 31.233333333333334 percentage\n",
      "Accuracy in epoch 42 is 31.735714285714284 percentage\n",
      "Accuracy in epoch 43 is 32.30714285714286 percentage\n",
      "Accuracy in epoch 44 is 32.77619047619048 percentage\n",
      "Accuracy in epoch 45 is 33.23095238095238 percentage\n",
      "Accuracy in epoch 46 is 33.726190476190474 percentage\n",
      "Accuracy in epoch 47 is 34.24523809523809 percentage\n",
      "Accuracy in epoch 48 is 34.78095238095238 percentage\n",
      "Accuracy in epoch 49 is 35.28333333333333 percentage\n",
      "Accuracy in epoch 50 is 35.71190476190476 percentage\n",
      "Accuracy in epoch 51 is 36.159523809523805 percentage\n",
      "Accuracy in epoch 52 is 36.73571428571429 percentage\n",
      "Accuracy in epoch 53 is 37.278571428571425 percentage\n",
      "Accuracy in epoch 54 is 37.740476190476194 percentage\n",
      "Accuracy in epoch 55 is 38.20952380952381 percentage\n",
      "Accuracy in epoch 56 is 38.75714285714286 percentage\n",
      "Accuracy in epoch 57 is 39.27857142857143 percentage\n",
      "Accuracy in epoch 58 is 39.84761904761905 percentage\n",
      "Accuracy in epoch 59 is 40.37619047619047 percentage\n",
      "Accuracy in epoch 60 is 40.864285714285714 percentage\n",
      "Accuracy in epoch 61 is 41.41904761904762 percentage\n",
      "Accuracy in epoch 62 is 41.92142857142857 percentage\n",
      "Accuracy in epoch 63 is 42.42857142857142 percentage\n",
      "Accuracy in epoch 64 is 42.878571428571426 percentage\n",
      "Accuracy in epoch 65 is 43.31428571428572 percentage\n",
      "Accuracy in epoch 66 is 43.83095238095238 percentage\n",
      "Accuracy in epoch 67 is 44.21666666666667 percentage\n",
      "Accuracy in epoch 68 is 44.63809523809524 percentage\n",
      "Accuracy in epoch 69 is 45.154761904761905 percentage\n",
      "Accuracy in epoch 70 is 45.614285714285714 percentage\n",
      "Accuracy in epoch 71 is 46.08809523809524 percentage\n",
      "Accuracy in epoch 72 is 46.50238095238095 percentage\n",
      "Accuracy in epoch 73 is 46.96904761904762 percentage\n",
      "Accuracy in epoch 74 is 47.409523809523805 percentage\n",
      "Accuracy in epoch 75 is 47.87380952380953 percentage\n",
      "Accuracy in epoch 76 is 48.34761904761905 percentage\n",
      "Accuracy in epoch 77 is 48.7952380952381 percentage\n",
      "Accuracy in epoch 78 is 49.2 percentage\n",
      "Accuracy in epoch 79 is 49.55238095238095 percentage\n",
      "Accuracy in epoch 80 is 50.05714285714286 percentage\n",
      "Accuracy in epoch 81 is 50.46904761904762 percentage\n",
      "Accuracy in epoch 82 is 50.85238095238095 percentage\n",
      "Accuracy in epoch 83 is 51.27619047619048 percentage\n",
      "Accuracy in epoch 84 is 51.72619047619048 percentage\n",
      "Accuracy in epoch 85 is 52.107142857142854 percentage\n",
      "Accuracy in epoch 86 is 52.535714285714285 percentage\n",
      "Accuracy in epoch 87 is 52.916666666666664 percentage\n",
      "Accuracy in epoch 88 is 53.28333333333334 percentage\n",
      "Accuracy in epoch 89 is 53.67619047619048 percentage\n",
      "Accuracy in epoch 90 is 54.1 percentage\n",
      "Accuracy in epoch 91 is 54.50714285714285 percentage\n",
      "Accuracy in epoch 92 is 54.93571428571429 percentage\n",
      "Accuracy in epoch 93 is 55.26904761904762 percentage\n",
      "Accuracy in epoch 94 is 55.58333333333333 percentage\n",
      "Accuracy in epoch 95 is 55.93571428571429 percentage\n",
      "Accuracy in epoch 96 is 56.34285714285714 percentage\n",
      "Accuracy in epoch 97 is 56.66190476190476 percentage\n",
      "Accuracy in epoch 98 is 57.040476190476184 percentage\n",
      "Accuracy in epoch 99 is 57.40714285714286 percentage\n",
      "Accuracy in epoch 100 is 57.676190476190484 percentage\n",
      "Accuracy in epoch 101 is 57.99999999999999 percentage\n",
      "Accuracy in epoch 102 is 58.32142857142857 percentage\n",
      "Accuracy in epoch 103 is 58.561904761904756 percentage\n",
      "Accuracy in epoch 104 is 58.88333333333333 percentage\n",
      "Accuracy in epoch 105 is 59.19285714285715 percentage\n",
      "Accuracy in epoch 106 is 59.53571428571428 percentage\n",
      "Accuracy in epoch 107 is 59.83571428571428 percentage\n",
      "Accuracy in epoch 108 is 60.11428571428571 percentage\n",
      "Accuracy in epoch 109 is 60.345238095238095 percentage\n",
      "Accuracy in epoch 110 is 60.61904761904762 percentage\n",
      "Accuracy in epoch 111 is 60.845238095238095 percentage\n",
      "Accuracy in epoch 112 is 61.1452380952381 percentage\n",
      "Accuracy in epoch 113 is 61.41428571428571 percentage\n",
      "Accuracy in epoch 114 is 61.66666666666667 percentage\n",
      "Accuracy in epoch 115 is 61.99523809523809 percentage\n",
      "Accuracy in epoch 116 is 62.16666666666667 percentage\n",
      "Accuracy in epoch 117 is 62.390476190476186 percentage\n",
      "Accuracy in epoch 118 is 62.669047619047625 percentage\n",
      "Accuracy in epoch 119 is 62.91190476190476 percentage\n",
      "Accuracy in epoch 120 is 62.97857142857143 percentage\n",
      "Accuracy in epoch 121 is 63.307142857142864 percentage\n",
      "Accuracy in epoch 122 is 63.13333333333333 percentage\n",
      "Accuracy in epoch 123 is 63.44047619047619 percentage\n",
      "Accuracy in epoch 124 is 62.46190476190476 percentage\n",
      "Accuracy in epoch 125 is 62.221428571428575 percentage\n",
      "Accuracy in epoch 126 is 59.39047619047619 percentage\n",
      "Accuracy in epoch 127 is 57.0952380952381 percentage\n",
      "Accuracy in epoch 128 is 52.79761904761905 percentage\n",
      "Accuracy in epoch 129 is 49.65952380952381 percentage\n",
      "Accuracy in epoch 130 is 49.12619047619048 percentage\n",
      "Accuracy in epoch 131 is 52.75714285714286 percentage\n",
      "Accuracy in epoch 132 is 56.24523809523809 percentage\n",
      "Accuracy in epoch 133 is 60.476190476190474 percentage\n",
      "Accuracy in epoch 134 is 61.209523809523816 percentage\n",
      "Accuracy in epoch 135 is 63.72380952380953 percentage\n",
      "Accuracy in epoch 136 is 63.2452380952381 percentage\n",
      "Accuracy in epoch 137 is 65.09761904761905 percentage\n",
      "Accuracy in epoch 138 is 64.37380952380953 percentage\n",
      "Accuracy in epoch 139 is 65.80952380952381 percentage\n",
      "Accuracy in epoch 140 is 65.07142857142857 percentage\n",
      "Accuracy in epoch 141 is 66.32380952380953 percentage\n",
      "Accuracy in epoch 142 is 65.57619047619048 percentage\n",
      "Accuracy in epoch 143 is 66.66428571428571 percentage\n",
      "Accuracy in epoch 144 is 65.95238095238095 percentage\n",
      "Accuracy in epoch 145 is 66.9 percentage\n",
      "Accuracy in epoch 146 is 66.16428571428571 percentage\n",
      "Accuracy in epoch 147 is 67.12142857142858 percentage\n",
      "Accuracy in epoch 148 is 66.33809523809524 percentage\n",
      "Accuracy in epoch 149 is 67.21428571428572 percentage\n",
      "Accuracy in epoch 150 is 66.38095238095238 percentage\n",
      "Accuracy in epoch 151 is 67.25714285714287 percentage\n",
      "Accuracy in epoch 152 is 66.44761904761904 percentage\n",
      "Accuracy in epoch 153 is 67.31428571428572 percentage\n",
      "Accuracy in epoch 154 is 66.54761904761905 percentage\n",
      "Accuracy in epoch 155 is 67.40714285714286 percentage\n",
      "Accuracy in epoch 156 is 66.63809523809525 percentage\n",
      "Accuracy in epoch 157 is 67.49047619047619 percentage\n",
      "Accuracy in epoch 158 is 66.71428571428571 percentage\n",
      "Accuracy in epoch 159 is 67.60714285714286 percentage\n",
      "Accuracy in epoch 160 is 66.87142857142857 percentage\n",
      "Accuracy in epoch 161 is 67.85714285714286 percentage\n",
      "Accuracy in epoch 162 is 67.07380952380953 percentage\n",
      "Accuracy in epoch 163 is 68.15714285714286 percentage\n",
      "Accuracy in epoch 164 is 67.41190476190476 percentage\n",
      "Accuracy in epoch 165 is 68.46666666666667 percentage\n",
      "Accuracy in epoch 166 is 67.82142857142858 percentage\n",
      "Accuracy in epoch 167 is 68.88333333333333 percentage\n",
      "Accuracy in epoch 168 is 68.25714285714287 percentage\n",
      "Accuracy in epoch 169 is 69.27380952380953 percentage\n",
      "Accuracy in epoch 170 is 68.69761904761906 percentage\n",
      "Accuracy in epoch 171 is 69.7595238095238 percentage\n",
      "Accuracy in epoch 172 is 69.0904761904762 percentage\n",
      "Accuracy in epoch 173 is 70.18333333333334 percentage\n",
      "Accuracy in epoch 174 is 69.6 percentage\n",
      "Accuracy in epoch 175 is 70.58809523809524 percentage\n",
      "Accuracy in epoch 176 is 70.04285714285714 percentage\n",
      "Accuracy in epoch 177 is 70.93333333333334 percentage\n",
      "Accuracy in epoch 178 is 70.41190476190476 percentage\n",
      "Accuracy in epoch 179 is 71.34285714285714 percentage\n",
      "Accuracy in epoch 180 is 70.7357142857143 percentage\n",
      "Accuracy in epoch 181 is 71.61428571428571 percentage\n",
      "Accuracy in epoch 182 is 71.05714285714285 percentage\n",
      "Accuracy in epoch 183 is 71.88333333333333 percentage\n",
      "Accuracy in epoch 184 is 71.2904761904762 percentage\n",
      "Accuracy in epoch 185 is 72.17619047619047 percentage\n",
      "Accuracy in epoch 186 is 71.60952380952381 percentage\n",
      "Accuracy in epoch 187 is 72.48333333333333 percentage\n",
      "Accuracy in epoch 188 is 71.86428571428571 percentage\n",
      "Accuracy in epoch 189 is 72.73095238095239 percentage\n",
      "Accuracy in epoch 190 is 72.12380952380953 percentage\n",
      "Accuracy in epoch 191 is 72.99285714285715 percentage\n",
      "Accuracy in epoch 192 is 72.33095238095238 percentage\n",
      "Accuracy in epoch 193 is 73.22142857142858 percentage\n",
      "Accuracy in epoch 194 is 72.54285714285714 percentage\n",
      "Accuracy in epoch 195 is 73.44047619047619 percentage\n",
      "Accuracy in epoch 196 is 72.76904761904763 percentage\n",
      "Accuracy in epoch 197 is 73.68571428571428 percentage\n",
      "Accuracy in epoch 198 is 72.97857142857143 percentage\n",
      "Accuracy in epoch 199 is 73.86904761904762 percentage\n",
      "Accuracy in epoch 200 is 73.18333333333334 percentage\n",
      "Accuracy in epoch 201 is 74.06666666666666 percentage\n",
      "Accuracy in epoch 202 is 73.39761904761905 percentage\n",
      "Accuracy in epoch 203 is 74.23095238095239 percentage\n",
      "Accuracy in epoch 204 is 73.57380952380952 percentage\n",
      "Accuracy in epoch 205 is 74.44047619047619 percentage\n",
      "Accuracy in epoch 206 is 73.76428571428572 percentage\n",
      "Accuracy in epoch 207 is 74.62857142857143 percentage\n",
      "Accuracy in epoch 208 is 73.99761904761904 percentage\n",
      "Accuracy in epoch 209 is 74.82619047619048 percentage\n",
      "Accuracy in epoch 210 is 74.19285714285714 percentage\n",
      "Accuracy in epoch 211 is 74.9857142857143 percentage\n",
      "Accuracy in epoch 212 is 74.35714285714286 percentage\n",
      "Accuracy in epoch 213 is 75.18809523809524 percentage\n",
      "Accuracy in epoch 214 is 74.56190476190476 percentage\n",
      "Accuracy in epoch 215 is 75.37857142857143 percentage\n",
      "Accuracy in epoch 216 is 74.75714285714285 percentage\n",
      "Accuracy in epoch 217 is 75.59047619047618 percentage\n",
      "Accuracy in epoch 218 is 74.93571428571428 percentage\n",
      "Accuracy in epoch 219 is 75.77857142857142 percentage\n",
      "Accuracy in epoch 220 is 75.10952380952382 percentage\n",
      "Accuracy in epoch 221 is 75.94285714285715 percentage\n",
      "Accuracy in epoch 222 is 75.31904761904762 percentage\n",
      "Accuracy in epoch 223 is 76.10714285714286 percentage\n",
      "Accuracy in epoch 224 is 75.53333333333333 percentage\n",
      "Accuracy in epoch 225 is 76.26190476190476 percentage\n",
      "Accuracy in epoch 226 is 75.72619047619048 percentage\n",
      "Accuracy in epoch 227 is 76.42142857142858 percentage\n",
      "Accuracy in epoch 228 is 75.9095238095238 percentage\n",
      "Accuracy in epoch 229 is 76.61666666666666 percentage\n",
      "Accuracy in epoch 230 is 76.10238095238095 percentage\n",
      "Accuracy in epoch 231 is 76.76666666666667 percentage\n",
      "Accuracy in epoch 232 is 76.29047619047618 percentage\n",
      "Accuracy in epoch 233 is 76.8952380952381 percentage\n",
      "Accuracy in epoch 234 is 76.47619047619048 percentage\n",
      "Accuracy in epoch 235 is 77.05952380952381 percentage\n",
      "Accuracy in epoch 236 is 76.64761904761905 percentage\n",
      "Accuracy in epoch 237 is 77.21904761904761 percentage\n",
      "Accuracy in epoch 238 is 76.81904761904762 percentage\n",
      "Accuracy in epoch 239 is 77.37857142857143 percentage\n",
      "Accuracy in epoch 240 is 76.97857142857143 percentage\n",
      "Accuracy in epoch 241 is 77.53571428571429 percentage\n",
      "Accuracy in epoch 242 is 77.14285714285715 percentage\n",
      "Accuracy in epoch 243 is 77.65952380952382 percentage\n",
      "Accuracy in epoch 244 is 77.29523809523809 percentage\n",
      "Accuracy in epoch 245 is 77.83095238095238 percentage\n",
      "Accuracy in epoch 246 is 77.47142857142858 percentage\n",
      "Accuracy in epoch 247 is 78.02380952380953 percentage\n",
      "Accuracy in epoch 248 is 77.60476190476192 percentage\n",
      "Accuracy in epoch 249 is 78.17142857142856 percentage\n",
      "Accuracy in epoch 250 is 77.75952380952381 percentage\n",
      "Accuracy in epoch 251 is 78.29285714285714 percentage\n",
      "Accuracy in epoch 252 is 77.92619047619047 percentage\n",
      "Accuracy in epoch 253 is 78.41428571428571 percentage\n",
      "Accuracy in epoch 254 is 78.07380952380953 percentage\n",
      "Accuracy in epoch 255 is 78.53333333333333 percentage\n",
      "Accuracy in epoch 256 is 78.21666666666667 percentage\n",
      "Accuracy in epoch 257 is 78.64285714285715 percentage\n",
      "Accuracy in epoch 258 is 78.38333333333334 percentage\n",
      "Accuracy in epoch 259 is 78.79285714285714 percentage\n",
      "Accuracy in epoch 260 is 78.55952380952381 percentage\n",
      "Accuracy in epoch 261 is 78.94285714285715 percentage\n",
      "Accuracy in epoch 262 is 78.68095238095239 percentage\n",
      "Accuracy in epoch 263 is 79.07619047619048 percentage\n",
      "Accuracy in epoch 264 is 78.79047619047618 percentage\n",
      "Accuracy in epoch 265 is 79.20238095238096 percentage\n",
      "Accuracy in epoch 266 is 78.89285714285714 percentage\n",
      "Accuracy in epoch 267 is 79.3047619047619 percentage\n",
      "Accuracy in epoch 268 is 79.03571428571429 percentage\n",
      "Accuracy in epoch 269 is 79.45 percentage\n",
      "Accuracy in epoch 270 is 79.21428571428571 percentage\n",
      "Accuracy in epoch 271 is 79.57619047619048 percentage\n",
      "Accuracy in epoch 272 is 79.35952380952381 percentage\n",
      "Accuracy in epoch 273 is 79.72380952380952 percentage\n",
      "Accuracy in epoch 274 is 79.48333333333333 percentage\n",
      "Accuracy in epoch 275 is 79.82619047619048 percentage\n",
      "Accuracy in epoch 276 is 79.64047619047619 percentage\n",
      "Accuracy in epoch 277 is 79.92619047619047 percentage\n",
      "Accuracy in epoch 278 is 79.75238095238095 percentage\n",
      "Accuracy in epoch 279 is 80.05 percentage\n",
      "Accuracy in epoch 280 is 79.8952380952381 percentage\n",
      "Accuracy in epoch 281 is 80.13809523809525 percentage\n",
      "Accuracy in epoch 282 is 80.04285714285714 percentage\n",
      "Accuracy in epoch 283 is 80.26666666666667 percentage\n",
      "Accuracy in epoch 284 is 80.19047619047619 percentage\n",
      "Accuracy in epoch 285 is 80.42857142857143 percentage\n",
      "Accuracy in epoch 286 is 80.31666666666666 percentage\n",
      "Accuracy in epoch 287 is 80.59285714285714 percentage\n",
      "Accuracy in epoch 288 is 80.43095238095238 percentage\n",
      "Accuracy in epoch 289 is 80.70238095238095 percentage\n",
      "Accuracy in epoch 290 is 80.53571428571429 percentage\n",
      "Accuracy in epoch 291 is 80.81190476190476 percentage\n",
      "Accuracy in epoch 292 is 80.66190476190475 percentage\n",
      "Accuracy in epoch 293 is 80.92619047619047 percentage\n",
      "Accuracy in epoch 294 is 80.79523809523809 percentage\n",
      "Accuracy in epoch 295 is 81.07857142857144 percentage\n",
      "Accuracy in epoch 296 is 80.92857142857143 percentage\n",
      "Accuracy in epoch 297 is 81.19761904761906 percentage\n",
      "Accuracy in epoch 298 is 81.03809523809524 percentage\n",
      "Accuracy in epoch 299 is 81.31666666666668 percentage\n",
      "Accuracy in epoch 300 is 81.1452380952381 percentage\n",
      "Accuracy in epoch 301 is 81.41190476190476 percentage\n",
      "Accuracy in epoch 302 is 81.26904761904761 percentage\n",
      "Accuracy in epoch 303 is 81.52857142857142 percentage\n",
      "Accuracy in epoch 304 is 81.37142857142857 percentage\n",
      "Accuracy in epoch 305 is 81.62619047619047 percentage\n",
      "Accuracy in epoch 306 is 81.48571428571428 percentage\n",
      "Accuracy in epoch 307 is 81.71190476190476 percentage\n",
      "Accuracy in epoch 308 is 81.5952380952381 percentage\n",
      "Accuracy in epoch 309 is 81.83333333333334 percentage\n",
      "Accuracy in epoch 310 is 81.68809523809524 percentage\n",
      "Accuracy in epoch 311 is 81.96904761904761 percentage\n",
      "Accuracy in epoch 312 is 81.7952380952381 percentage\n",
      "Accuracy in epoch 313 is 82.05952380952381 percentage\n",
      "Accuracy in epoch 314 is 81.91190476190476 percentage\n",
      "Accuracy in epoch 315 is 82.15476190476191 percentage\n",
      "Accuracy in epoch 316 is 82.02380952380952 percentage\n",
      "Accuracy in epoch 317 is 82.27619047619048 percentage\n",
      "Accuracy in epoch 318 is 82.13571428571429 percentage\n",
      "Accuracy in epoch 319 is 82.37142857142857 percentage\n",
      "Accuracy in epoch 320 is 82.2452380952381 percentage\n",
      "Accuracy in epoch 321 is 82.46904761904761 percentage\n",
      "Accuracy in epoch 322 is 82.35714285714286 percentage\n",
      "Accuracy in epoch 323 is 82.55714285714286 percentage\n",
      "Accuracy in epoch 324 is 82.46428571428571 percentage\n",
      "Accuracy in epoch 325 is 82.67142857142858 percentage\n",
      "Accuracy in epoch 326 is 82.53571428571429 percentage\n",
      "Accuracy in epoch 327 is 82.7642857142857 percentage\n",
      "Accuracy in epoch 328 is 82.59285714285714 percentage\n",
      "Accuracy in epoch 329 is 82.84523809523809 percentage\n",
      "Accuracy in epoch 330 is 82.69047619047619 percentage\n",
      "Accuracy in epoch 331 is 82.95476190476191 percentage\n",
      "Accuracy in epoch 332 is 82.76904761904763 percentage\n",
      "Accuracy in epoch 333 is 83.03809523809524 percentage\n",
      "Accuracy in epoch 334 is 82.87142857142857 percentage\n",
      "Accuracy in epoch 335 is 83.10952380952381 percentage\n",
      "Accuracy in epoch 336 is 83.0 percentage\n",
      "Accuracy in epoch 337 is 83.1952380952381 percentage\n",
      "Accuracy in epoch 338 is 83.10238095238095 percentage\n",
      "Accuracy in epoch 339 is 83.2904761904762 percentage\n",
      "Accuracy in epoch 340 is 83.16904761904762 percentage\n",
      "Accuracy in epoch 341 is 83.35000000000001 percentage\n",
      "Accuracy in epoch 342 is 83.25714285714285 percentage\n",
      "Accuracy in epoch 343 is 83.42619047619047 percentage\n",
      "Accuracy in epoch 344 is 83.32857142857144 percentage\n",
      "Accuracy in epoch 345 is 83.49761904761904 percentage\n",
      "Accuracy in epoch 346 is 83.41190476190476 percentage\n",
      "Accuracy in epoch 347 is 83.57142857142857 percentage\n",
      "Accuracy in epoch 348 is 83.5047619047619 percentage\n",
      "Accuracy in epoch 349 is 83.63571428571429 percentage\n",
      "Accuracy in epoch 350 is 83.56428571428572 percentage\n",
      "Accuracy in epoch 351 is 83.67619047619047 percentage\n",
      "Accuracy in epoch 352 is 83.62619047619047 percentage\n",
      "Accuracy in epoch 353 is 83.7547619047619 percentage\n",
      "Accuracy in epoch 354 is 83.68809523809524 percentage\n",
      "Accuracy in epoch 355 is 83.82142857142857 percentage\n",
      "Accuracy in epoch 356 is 83.73809523809524 percentage\n",
      "Accuracy in epoch 357 is 83.8952380952381 percentage\n",
      "Accuracy in epoch 358 is 83.81666666666666 percentage\n",
      "Accuracy in epoch 359 is 83.97619047619047 percentage\n",
      "Accuracy in epoch 360 is 83.8952380952381 percentage\n",
      "Accuracy in epoch 361 is 84.04761904761905 percentage\n",
      "Accuracy in epoch 362 is 83.97142857142858 percentage\n",
      "Accuracy in epoch 363 is 84.1 percentage\n",
      "Accuracy in epoch 364 is 84.02142857142857 percentage\n",
      "Accuracy in epoch 365 is 84.14047619047619 percentage\n",
      "Accuracy in epoch 366 is 84.08571428571429 percentage\n",
      "Accuracy in epoch 367 is 84.22142857142858 percentage\n",
      "Accuracy in epoch 368 is 84.15238095238095 percentage\n",
      "Accuracy in epoch 369 is 84.28571428571429 percentage\n",
      "Accuracy in epoch 370 is 84.20476190476191 percentage\n",
      "Accuracy in epoch 371 is 84.33571428571427 percentage\n",
      "Accuracy in epoch 372 is 84.28571428571429 percentage\n",
      "Accuracy in epoch 373 is 84.38809523809525 percentage\n",
      "Accuracy in epoch 374 is 84.33809523809524 percentage\n",
      "Accuracy in epoch 375 is 84.46666666666667 percentage\n",
      "Accuracy in epoch 376 is 84.43333333333334 percentage\n",
      "Accuracy in epoch 377 is 84.54285714285714 percentage\n",
      "Accuracy in epoch 378 is 84.50714285714285 percentage\n",
      "Accuracy in epoch 379 is 84.59761904761905 percentage\n",
      "Accuracy in epoch 380 is 84.57857142857142 percentage\n",
      "Accuracy in epoch 381 is 84.64285714285714 percentage\n",
      "Accuracy in epoch 382 is 84.6547619047619 percentage\n",
      "Accuracy in epoch 383 is 84.68095238095238 percentage\n",
      "Accuracy in epoch 384 is 84.71904761904761 percentage\n",
      "Accuracy in epoch 385 is 84.74285714285715 percentage\n",
      "Accuracy in epoch 386 is 84.77380952380953 percentage\n",
      "Accuracy in epoch 387 is 84.81666666666666 percentage\n",
      "Accuracy in epoch 388 is 84.8047619047619 percentage\n",
      "Accuracy in epoch 389 is 84.86428571428571 percentage\n",
      "Accuracy in epoch 390 is 84.86428571428571 percentage\n",
      "Accuracy in epoch 391 is 84.92619047619047 percentage\n",
      "Accuracy in epoch 392 is 84.90714285714286 percentage\n",
      "Accuracy in epoch 393 is 84.98571428571428 percentage\n",
      "Accuracy in epoch 394 is 84.97380952380954 percentage\n",
      "Accuracy in epoch 395 is 85.03571428571428 percentage\n",
      "Accuracy in epoch 396 is 85.03571428571428 percentage\n",
      "Accuracy in epoch 397 is 85.09761904761905 percentage\n",
      "Accuracy in epoch 398 is 85.11190476190477 percentage\n",
      "Accuracy in epoch 399 is 85.17142857142858 percentage\n",
      "Accuracy in epoch 400 is 85.17857142857143 percentage\n",
      "Accuracy in epoch 401 is 85.22619047619048 percentage\n",
      "Accuracy in epoch 402 is 85.24047619047619 percentage\n",
      "Accuracy in epoch 403 is 85.30238095238096 percentage\n",
      "Accuracy in epoch 404 is 85.3047619047619 percentage\n",
      "Accuracy in epoch 405 is 85.3404761904762 percentage\n",
      "Accuracy in epoch 406 is 85.32380952380953 percentage\n",
      "Accuracy in epoch 407 is 85.40714285714286 percentage\n",
      "Accuracy in epoch 408 is 85.38095238095238 percentage\n",
      "Accuracy in epoch 409 is 85.43809523809523 percentage\n",
      "Accuracy in epoch 410 is 85.43333333333332 percentage\n",
      "Accuracy in epoch 411 is 85.48333333333333 percentage\n",
      "Accuracy in epoch 412 is 85.48095238095237 percentage\n",
      "Accuracy in epoch 413 is 85.52857142857142 percentage\n",
      "Accuracy in epoch 414 is 85.51666666666667 percentage\n",
      "Accuracy in epoch 415 is 85.57619047619048 percentage\n",
      "Accuracy in epoch 416 is 85.55952380952381 percentage\n",
      "Accuracy in epoch 417 is 85.62380952380953 percentage\n",
      "Accuracy in epoch 418 is 85.60952380952381 percentage\n",
      "Accuracy in epoch 419 is 85.6595238095238 percentage\n",
      "Accuracy in epoch 420 is 85.66190476190476 percentage\n",
      "Accuracy in epoch 421 is 85.70952380952382 percentage\n",
      "Accuracy in epoch 422 is 85.68809523809524 percentage\n",
      "Accuracy in epoch 423 is 85.7452380952381 percentage\n",
      "Accuracy in epoch 424 is 85.74285714285715 percentage\n",
      "Accuracy in epoch 425 is 85.77857142857142 percentage\n",
      "Accuracy in epoch 426 is 85.77380952380952 percentage\n",
      "Accuracy in epoch 427 is 85.82619047619048 percentage\n",
      "Accuracy in epoch 428 is 85.82380952380953 percentage\n",
      "Accuracy in epoch 429 is 85.85238095238095 percentage\n",
      "Accuracy in epoch 430 is 85.87619047619047 percentage\n",
      "Accuracy in epoch 431 is 85.89047619047619 percentage\n",
      "Accuracy in epoch 432 is 85.91904761904762 percentage\n",
      "Accuracy in epoch 433 is 85.92619047619048 percentage\n",
      "Accuracy in epoch 434 is 85.96190476190476 percentage\n",
      "Accuracy in epoch 435 is 85.96904761904763 percentage\n",
      "Accuracy in epoch 436 is 86.0 percentage\n",
      "Accuracy in epoch 437 is 86.0142857142857 percentage\n",
      "Accuracy in epoch 438 is 86.03809523809524 percentage\n",
      "Accuracy in epoch 439 is 86.05238095238094 percentage\n",
      "Accuracy in epoch 440 is 86.07857142857142 percentage\n",
      "Accuracy in epoch 441 is 86.1047619047619 percentage\n",
      "Accuracy in epoch 442 is 86.11904761904762 percentage\n",
      "Accuracy in epoch 443 is 86.1452380952381 percentage\n",
      "Accuracy in epoch 444 is 86.17619047619047 percentage\n",
      "Accuracy in epoch 445 is 86.16190476190476 percentage\n",
      "Accuracy in epoch 446 is 86.20952380952382 percentage\n",
      "Accuracy in epoch 447 is 86.20952380952382 percentage\n",
      "Accuracy in epoch 448 is 86.23571428571428 percentage\n",
      "Accuracy in epoch 449 is 86.25 percentage\n",
      "Accuracy in epoch 450 is 86.25238095238095 percentage\n",
      "Accuracy in epoch 451 is 86.2904761904762 percentage\n",
      "Accuracy in epoch 452 is 86.28095238095239 percentage\n",
      "Accuracy in epoch 453 is 86.32857142857144 percentage\n",
      "Accuracy in epoch 454 is 86.31666666666666 percentage\n",
      "Accuracy in epoch 455 is 86.35000000000001 percentage\n",
      "Accuracy in epoch 456 is 86.3547619047619 percentage\n",
      "Accuracy in epoch 457 is 86.38809523809525 percentage\n",
      "Accuracy in epoch 458 is 86.40476190476191 percentage\n",
      "Accuracy in epoch 459 is 86.40952380952382 percentage\n",
      "Accuracy in epoch 460 is 86.44285714285715 percentage\n",
      "Accuracy in epoch 461 is 86.45714285714286 percentage\n",
      "Accuracy in epoch 462 is 86.4595238095238 percentage\n",
      "Accuracy in epoch 463 is 86.4952380952381 percentage\n",
      "Accuracy in epoch 464 is 86.48809523809524 percentage\n",
      "Accuracy in epoch 465 is 86.52380952380952 percentage\n",
      "Accuracy in epoch 466 is 86.54285714285714 percentage\n",
      "Accuracy in epoch 467 is 86.58809523809524 percentage\n",
      "Accuracy in epoch 468 is 86.56904761904762 percentage\n",
      "Accuracy in epoch 469 is 86.62380952380953 percentage\n",
      "Accuracy in epoch 470 is 86.6 percentage\n",
      "Accuracy in epoch 471 is 86.68571428571428 percentage\n",
      "Accuracy in epoch 472 is 86.6452380952381 percentage\n",
      "Accuracy in epoch 473 is 86.71666666666667 percentage\n",
      "Accuracy in epoch 474 is 86.68809523809524 percentage\n",
      "Accuracy in epoch 475 is 86.7547619047619 percentage\n",
      "Accuracy in epoch 476 is 86.74761904761905 percentage\n",
      "Accuracy in epoch 477 is 86.81190476190476 percentage\n",
      "Accuracy in epoch 478 is 86.79285714285714 percentage\n",
      "Accuracy in epoch 479 is 86.84285714285714 percentage\n",
      "Accuracy in epoch 480 is 86.81904761904762 percentage\n",
      "Accuracy in epoch 481 is 86.85238095238094 percentage\n",
      "Accuracy in epoch 482 is 86.8452380952381 percentage\n",
      "Accuracy in epoch 483 is 86.86904761904762 percentage\n",
      "Accuracy in epoch 484 is 86.86190476190477 percentage\n",
      "Accuracy in epoch 485 is 86.87857142857143 percentage\n",
      "Accuracy in epoch 486 is 86.87857142857143 percentage\n",
      "Accuracy in epoch 487 is 86.9 percentage\n",
      "Accuracy in epoch 488 is 86.91190476190475 percentage\n",
      "Accuracy in epoch 489 is 86.93333333333332 percentage\n",
      "Accuracy in epoch 490 is 86.9452380952381 percentage\n",
      "Accuracy in epoch 491 is 86.95714285714286 percentage\n",
      "Accuracy in epoch 492 is 86.97142857142856 percentage\n",
      "Accuracy in epoch 493 is 86.97857142857143 percentage\n",
      "Accuracy in epoch 494 is 86.9904761904762 percentage\n",
      "Accuracy in epoch 495 is 87.00714285714287 percentage\n",
      "Accuracy in epoch 496 is 87.0142857142857 percentage\n",
      "Accuracy in epoch 497 is 87.03809523809524 percentage\n",
      "Accuracy in epoch 498 is 87.04761904761905 percentage\n",
      "Accuracy in epoch 499 is 87.08095238095238 percentage\n",
      "test accuracy is 65.80658065806581 \n"
     ]
    },
    {
     "name": "stderr",
     "output_type": "stream",
     "text": [
      "<ipython-input-12-70b552581485>:62: RuntimeWarning: overflow encountered in exp\n",
      "  y=1/(1+np.exp(-x) )\n"
     ]
    },
    {
     "data": {
      "image/png": "[encoded data removed]",
      "text/plain": [
       "<Figure size 432x288 with 1 Axes>"
      ]
     },
     "metadata": {
      "needs_background": "light"
     },
     "output_type": "display_data"
    },
    {
     "name": "stdout",
     "output_type": "stream",
     "text": [
      "Actually it is 2 predicted is 2\n"
     ]
    },
    {
     "data": {
      "image/png": "[encoded data removed]",
      "text/plain": [
       "<Figure size 432x288 with 1 Axes>"
      ]
     },
     "metadata": {
      "needs_background": "light"
     },
     "output_type": "display_data"
    },
    {
     "name": "stdout",
     "output_type": "stream",
     "text": [
      "Actually it is 1 predicted is 1\n"
     ]
    },
    {
     "data": {
      "image/png": "[encoded data removed]",
      "text/plain": [
       "<Figure size 432x288 with 1 Axes>"
      ]
     },
     "metadata": {
      "needs_background": "light"
     },
     "output_type": "display_data"
    },
    {
     "name": "stdout",
     "output_type": "stream",
     "text": [
      "Actually it is 0 predicted is 0\n"
     ]
    },
    {
     "data": {
      "image/png": "[encoded data removed]",
      "text/plain": [
       "<Figure size 432x288 with 1 Axes>"
      ]
     },
     "metadata": {
      "needs_background": "light"
     },
     "output_type": "display_data"
    },
    {
     "name": "stdout",
     "output_type": "stream",
     "text": [
      "Actually it is 4 predicted is 4\n"
     ]
    },
    {
     "data": {
      "image/png": "[encoded data removed]",
      "text/plain": [
       "<Figure size 432x288 with 1 Axes>"
      ]
     },
     "metadata": {
      "needs_background": "light"
     },
     "output_type": "display_data"
    },
    {
     "name": "stdout",
     "output_type": "stream",
     "text": [
      "Actually it is 1 predicted is 1\n"
     ]
    },
    {
     "data": {
      "image/png": "[encoded data removed]",
      "text/plain": [
       "<Figure size 432x288 with 1 Axes>"
      ]
     },
     "metadata": {
      "needs_background": "light"
     },
     "output_type": "display_data"
    },
    {
     "name": "stdout",
     "output_type": "stream",
     "text": [
      "Actually it is 4 predicted is 8\n"
     ]
    },
    {
     "data": {
      "image/png": "[encoded data removed]",
      "text/plain": [
       "<Figure size 432x288 with 1 Axes>"
      ]
     },
     "metadata": {
      "needs_background": "light"
     },
     "output_type": "display_data"
    },
    {
     "name": "stdout",
     "output_type": "stream",
     "text": [
      "Actually it is 9 predicted is 4\n"
     ]
    },
    {
     "data": {
      "image/png": "[encoded data removed]",
      "text/plain": [
       "<Figure size 432x288 with 1 Axes>"
      ]
     },
     "metadata": {
      "needs_background": "light"
     },
     "output_type": "display_data"
    },
    {
     "name": "stdout",
     "output_type": "stream",
     "text": [
      "Actually it is 5 predicted is 4\n"
     ]
    },
    {
     "data": {
      "image/png": "[encoded data removed]",
      "text/plain": [
       "<Figure size 432x288 with 1 Axes>"
      ]
     },
     "metadata": {
      "needs_background": "light"
     },
     "output_type": "display_data"
    },
    {
     "name": "stdout",
     "output_type": "stream",
     "text": [
      "Actually it is 9 predicted is 9\n"
     ]
    },
    {
     "data": {
      "image/png": "[encoded data removed]",
      "text/plain": [
       "<Figure size 432x288 with 1 Axes>"
      ]
     },
     "metadata": {
      "needs_background": "light"
     },
     "output_type": "display_data"
    },
    {
     "name": "stdout",
     "output_type": "stream",
     "text": [
      "Actually it is 0 predicted is 5\n"
     ]
    },
    {
     "data": {
      "image/png": "[encoded data removed]",
      "text/plain": [
       "<Figure size 432x288 with 1 Axes>"
      ]
     },
     "metadata": {
      "needs_background": "light"
     },
     "output_type": "display_data"
    },
    {
     "name": "stdout",
     "output_type": "stream",
     "text": [
      "Actually it is 6 predicted is 8\n"
     ]
    },
    {
     "data": {
      "image/png": "[encoded data removed]",
      "text/plain": [
       "<Figure size 432x288 with 1 Axes>"
      ]
     },
     "metadata": {
      "needs_background": "light"
     },
     "output_type": "display_data"
    },
    {
     "name": "stdout",
     "output_type": "stream",
     "text": [
      "Actually it is 9 predicted is 9\n"
     ]
    },
    {
     "data": {
      "image/png": "[encoded data removed]",
      "text/plain": [
       "<Figure size 432x288 with 1 Axes>"
      ]
     },
     "metadata": {
      "needs_background": "light"
     },
     "output_type": "display_data"
    },
    {
     "name": "stdout",
     "output_type": "stream",
     "text": [
      "Actually it is 0 predicted is 0\n"
     ]
    },
    {
     "data": {
      "image/png": "[encoded data removed]",
      "text/plain": [
       "<Figure size 432x288 with 1 Axes>"
      ]
     },
     "metadata": {
      "needs_background": "light"
     },
     "output_type": "display_data"
    },
    {
     "name": "stdout",
     "output_type": "stream",
     "text": [
      "Actually it is 1 predicted is 8\n"
     ]
    },
    {
     "data": {
      "image/png": "[encoded data removed]",
      "text/plain": [
       "<Figure size 432x288 with 1 Axes>"
      ]
     },
     "metadata": {
      "needs_background": "light"
     },
     "output_type": "display_data"
    },
    {
     "name": "stdout",
     "output_type": "stream",
     "text": [
      "Actually it is 5 predicted is 5\n"
     ]
    },
    {
     "data": {
      "image/png": "[encoded data removed]",
      "text/plain": [
       "<Figure size 432x288 with 1 Axes>"
      ]
     },
     "metadata": {
      "needs_background": "light"
     },
     "output_type": "display_data"
    },
    {
     "name": "stdout",
     "output_type": "stream",
     "text": [
      "Actually it is 9 predicted is 9\n"
     ]
    },
    {
     "data": {
      "image/png": "[encoded data removed]",
      "text/plain": [
       "<Figure size 432x288 with 1 Axes>"
      ]
     },
     "metadata": {
      "needs_background": "light"
     },
     "output_type": "display_data"
    },
    {
     "name": "stdout",
     "output_type": "stream",
     "text": [
      "Actually it is 7 predicted is 7\n"
     ]
    },
    {
     "data": {
      "image/png": "[encoded data removed]",
      "text/plain": [
       "<Figure size 432x288 with 1 Axes>"
      ]
     },
     "metadata": {
      "needs_background": "light"
     },
     "output_type": "display_data"
    },
    {
     "name": "stdout",
     "output_type": "stream",
     "text": [
      "Actually it is 3 predicted is 3\n"
     ]
    },
    {
     "data": {
      "image/png": "[encoded data removed]",
      "text/plain": [
       "<Figure size 432x288 with 1 Axes>"
      ]
     },
     "metadata": {
      "needs_background": "light"
     },
     "output_type": "display_data"
    },
    {
     "name": "stdout",
     "output_type": "stream",
     "text": [
      "Actually it is 4 predicted is 9\n"
     ]
    },
    {
     "data": {
      "image/png": "[encoded data removed]",
      "text/plain": [
       "<Figure size 432x288 with 1 Axes>"
      ]
     },
     "metadata": {
      "needs_background": "light"
     },
     "output_type": "display_data"
    },
    {
     "name": "stdout",
     "output_type": "stream",
     "text": [
      "Actually it is 9 predicted is 9\n"
     ]
    }
   ],
   "source": [
    "class ann:\n",
    "    def __init__(self,train,train_result,training_label,test,test_result,testing_label,epoches,alpha,hidden_layers,l):  \n",
    "        self.train=train\n",
    "        self.train_result=train_result\n",
    "        self.training_label=training_label\n",
    "        self.test=test \n",
    "        self.test_result=test_result\n",
    "        self.testing_label=testing_label\n",
    "        self.epoches=epoches\n",
    "        self.alpha=alpha\n",
    "        self.l=l          # activation function between each rows\n",
    "\n",
    "        self.input_features=np.shape(train)[0] # along the rows \n",
    "        self.output_features = np.shape(train_result)[0]\n",
    "        self.m=np.shape(train)[1]      # along the columns in a row    \n",
    "\n",
    "        self.layers=[self.input_features]+hidden_layers+[self.output_features]   # contains number of features in each layer including start , hidden and end layers\n",
    "\n",
    "\n",
    "        weights=[]     \n",
    "        bias=[]\n",
    "         \n",
    "        \n",
    "        error_wrt_z=[]\n",
    "        error_wrt_w=[]\n",
    "        error_wrt_b=[]\n",
    "\n",
    "        for i in range(len(self.layers)-1): \n",
    "            a=np.random.rand (self.layers[i+1],self.layers[i])-0.5\n",
    "            weights.append(a)\n",
    "\n",
    "            b=np.random.rand(self.layers[i+1],1)-0.5          # will use broad casting                                              \n",
    "            bias.append(b) \n",
    "\n",
    "            error_wrt_w.append(i)    # how many dw and db will be there , later i's will be updated with dw and db matrices \n",
    "\n",
    "            error_wrt_b.append(i)      # there will be number of (layers - 1) matrices for weights,bias,error wrt w,b,z in each forward propagation   \n",
    "\n",
    "            error_wrt_z.append(i)  \n",
    "        \n",
    "        self.weights=weights\n",
    "        self.bias=bias\n",
    "\n",
    "       \n",
    "        self.error_wrt_z= error_wrt_z\n",
    "        self.error_wrt_w= error_wrt_w\n",
    "        self.error_wrt_b= error_wrt_b\n",
    "\n",
    "        self.activations=[]\n",
    "        self.z=[]\n",
    "\n",
    "        self.function_derivitive=[self.reluDerivative,self.sigmoid_derivative]  # in middle layers put relu or sigmoid only you cannnot put softmax in middle as you dont know d softmax(z) / d(z)\n",
    "        self.function=[self.relu,self.sigmoid,self.softmax]  \n",
    "\n",
    "\n",
    "\n",
    "    def relu(self,x):\n",
    "        return np.maximum(0.0, x)\n",
    "\n",
    "\n",
    "    def sigmoid(self , x):\n",
    "        y=1/(1+np.exp(-x) )                       \n",
    "        return y\n",
    "        \n",
    "    def sigmoid_derivative(self, x):        #  d sigma(z) / d(z) = sigma(z)*(1-sigma(z)) \n",
    "        return np.multiply(x,(1-x))         # in this we are finding for all the a's of the matrix \n",
    "\n",
    "    def reluDerivative(self,x):\n",
    "        y=np.copy(x)\n",
    "        y[y<=0] = 0\n",
    "        y[y>0] = 1\n",
    "        return y     \n",
    "\n",
    "    def softmax (self,x):\n",
    "        e=np.exp(x)\n",
    "        return e/(np.sum(e,axis=0))  \n",
    "\n",
    "\n",
    "    def forward_propogate(self,data): # we are using forward prop on training as well as testing data so \n",
    "        self.activations.clear()   #  with each epoch our w will be updated as dw db dz will be updated so we will be getting new activations as well as z  after each eppoch\n",
    "        self.z.clear()\n",
    "        self.z.append(data)\n",
    "        self.activations.append(data)        ### note z and a will contain all the layers from  1st given layer at indeex 0 to the last output predicted layer \n",
    "      \n",
    "        for i in range (len(self.layers)-1):\n",
    "            self.z.append(np.add (np.dot(self.weights[i],self.activations[i]) ,self.bias[i]))\n",
    "        \n",
    "           # self.z.append(np.add( np.dot( self.weights[i],self.activations[i] ) ,np.repeat(self.bias[i],self.m,axis=1)) )    \n",
    "            self.activations.append(self.function[self.l[i]](self.z[i+1]  ) )  \n",
    "\n",
    "\n",
    "\n",
    "    def backward_propogation(self):  # we dont know d softmax(z) / d (z) so we are not using dz formula for last layer \n",
    "        self.error_wrt_z[len(self.layers)-2]=np.subtract(self.activations[len(self.layers)-1] , self.train_result )\n",
    "        for i in reversed(range(len(self.layers) - 1)):\n",
    "            self.error_wrt_w[i] = 1/self.m*(np.dot((self.error_wrt_z[i]),np.transpose(self.activations[i])))  \n",
    "            \n",
    "            self.error_wrt_b[i]=1/self.m *(np.sum(self.error_wrt_z[i] , axis=1 , keepdims=True))\n",
    "\n",
    "            if i>=1:\n",
    "                    self.error_wrt_z[i-1]=np.multiply (  np.dot ( np.transpose (self.weights[i]) , self.error_wrt_z[i] )  , self.function_derivitive[ self.l[i-1] ] ( self.function[ self.l[i-1] ]   (self.z[i]) ) )\n",
    "            else:\n",
    "                continue\n",
    "\n",
    "    def training(self):\n",
    "        for i in range(self.epoches):\n",
    "            self.forward_propogate(data=self.train)\n",
    "            final_prediction=self.predict()\n",
    "            accuracy_percentage=self.accuracy(final_prediction,actual_result=self.training_label)\n",
    "            print(\"Accuracy in epoch {} is {} percentage\".format(i,accuracy_percentage))\n",
    "            self.backward_propogation()\n",
    "            for j in range(len (self.layers)-1):\n",
    "                self.weights[j]=np.subtract(self.weights[j],self.alpha*self.error_wrt_w[j])\n",
    "                \n",
    "                self.bias[j]=np.subtract(self.bias[j],self.alpha*self.error_wrt_b[j])\n",
    "    \n",
    "     \n",
    "    def predict(self):                   \n",
    "        return (np.argmax(self.activations[-1], axis=0)[np.newaxis,:])        \n",
    "     \n",
    "    def accuracy(self,final_prediction,actual_result):\n",
    "        accuracy_per = (np.sum(actual_result ==final_prediction) / (actual_result).shape[1] ) * 100\n",
    "        return accuracy_per\n",
    "\n",
    "    def testing(self):\n",
    "      self.forward_propogate(data=self.test)\n",
    "      final_prediction=self.predict()  # now activation layers are for testing data after running this function so we are predicting on testing data only\n",
    "      accuracy_perct=self.accuracy(final_prediction=final_prediction,actual_result=self.testing_label)\n",
    "      \n",
    "      return  accuracy_perct,final_prediction\n",
    "\n",
    "    def draw(self,indexes,a):    # Run after running testing so you have the predictions saved for your testing data  ****its only for testing data ****\n",
    "      for i in range (indexes):\n",
    "        pixel=a[i,np.newaxis].reshape((28,28))\n",
    "        plt.gray()\n",
    "        plt.imshow(pixel, interpolation='nearest')\n",
    "        plt.show()\n",
    "\n",
    "        label=self.testing_label[0,i]\n",
    "        prediction=self.testing()[1][0,i]\n",
    "\n",
    "        print(\"Actually it is {} predicted is {}\".format(label,prediction))\n",
    "\n",
    "        \n",
    "\n",
    "\n",
    "model=ann (train=x_train,train_result=y_train,training_label=y,test=test_x,test_result=test_y,testing_label=test_labels,epoches=500,alpha=0.3,hidden_layers=[50,20,25,10],l=[1,0,1,0,2])\n",
    "model.training()\n",
    "\n",
    "test_accuracy=model.testing()[0]\n",
    "print(\"test accuracy is {} \".format(test_accuracy))\n",
    "\n",
    "model.draw(indexes=20,a=a)\n",
    "\n",
    "\n",
    "\n"
   ]
  },
  {
   "cell_type": "code",
   "execution_count": null,
   "metadata": {},
   "outputs": [],
   "source": []
  },
  {
   "cell_type": "code",
   "execution_count": null,
   "metadata": {},
   "outputs": [],
   "source": []
  }
 ],
 "metadata": {
  "interpreter": {
   "hash": "8ae54068e622f61d47b992eee920515c98b314ebd4be04c0239c7d903a657733"
  },
  "kernelspec": {
   "display_name": "Python 3.8.8",
   "language": "python",
   "name": "python3"
  },
  "language_info": {
   "codemirror_mode": {
    "name": "ipython",
    "version": 3
   },
   "file_extension": ".py",
   "mimetype": "text/x-python",
   "name": "python",
   "nbconvert_exporter": "python",
   "pygments_lexer": "ipython3",
   "version": "3.8.8"
  },
  "orig_nbformat": 4
 },
 "nbformat": 4,
 "nbformat_minor": 2
}
